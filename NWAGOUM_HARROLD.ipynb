{
  "cells": [
    {
      "cell_type": "markdown",
      "metadata": {
        "id": "g5W-ggtSfIYt"
      },
      "source": [
        "1. Charger le fichier\n",
        "\n",
        "   1.1 Importer les livrairies\n"
      ]
    },
    {
      "cell_type": "code",
      "execution_count": 316,
      "metadata": {
        "id": "8hoz955Fcq1k"
      },
      "outputs": [],
      "source": [
        "import pandas as pd\n",
        "import numpy as numpy\n",
        "import matplotlib.pyplot as plt"
      ]
    },
    {
      "cell_type": "markdown",
      "metadata": {
        "id": "EogFWByOf60E"
      },
      "source": [
        "    1.2 Lire le DataFrame\n"
      ]
    },
    {
      "cell_type": "code",
      "execution_count": 317,
      "metadata": {
        "colab": {
          "base_uri": "https://localhost:8080/",
          "height": 429
        },
        "id": "ymqd4OW5gIu6",
        "outputId": "edf6438c-b896-4501-9cc8-2411e5940f7e"
      },
      "outputs": [
        {
          "name": "stderr",
          "output_type": "stream",
          "text": [
            "C:\\Users\\harro\\AppData\\Local\\Temp\\ipykernel_22580\\3177575974.py:1: DtypeWarning: Columns (0,3,5,19,20,24,25,26,27,28,35,36,37,38,39,48) have mixed types. Specify dtype option on import or set low_memory=False.\n",
            "  df = pd.read_csv(\"./data/fr.openfoodfacts.org.products.csv\", sep=\"\\t\")\n"
          ]
        },
        {
          "data": {
            "text/html": [
              "<div>\n",
              "<style scoped>\n",
              "    .dataframe tbody tr th:only-of-type {\n",
              "        vertical-align: middle;\n",
              "    }\n",
              "\n",
              "    .dataframe tbody tr th {\n",
              "        vertical-align: top;\n",
              "    }\n",
              "\n",
              "    .dataframe thead th {\n",
              "        text-align: right;\n",
              "    }\n",
              "</style>\n",
              "<table border=\"1\" class=\"dataframe\">\n",
              "  <thead>\n",
              "    <tr style=\"text-align: right;\">\n",
              "      <th></th>\n",
              "      <th>code</th>\n",
              "      <th>url</th>\n",
              "      <th>creator</th>\n",
              "      <th>created_t</th>\n",
              "      <th>created_datetime</th>\n",
              "      <th>last_modified_t</th>\n",
              "      <th>last_modified_datetime</th>\n",
              "      <th>product_name</th>\n",
              "      <th>generic_name</th>\n",
              "      <th>quantity</th>\n",
              "      <th>...</th>\n",
              "      <th>ph_100g</th>\n",
              "      <th>fruits-vegetables-nuts_100g</th>\n",
              "      <th>collagen-meat-protein-ratio_100g</th>\n",
              "      <th>cocoa_100g</th>\n",
              "      <th>chlorophyl_100g</th>\n",
              "      <th>carbon-footprint_100g</th>\n",
              "      <th>nutrition-score-fr_100g</th>\n",
              "      <th>nutrition-score-uk_100g</th>\n",
              "      <th>glycemic-index_100g</th>\n",
              "      <th>water-hardness_100g</th>\n",
              "    </tr>\n",
              "  </thead>\n",
              "  <tbody>\n",
              "    <tr>\n",
              "      <th>0</th>\n",
              "      <td>3087</td>\n",
              "      <td>http://world-fr.openfoodfacts.org/produit/0000...</td>\n",
              "      <td>openfoodfacts-contributors</td>\n",
              "      <td>1474103866</td>\n",
              "      <td>2016-09-17T09:17:46Z</td>\n",
              "      <td>1474103893</td>\n",
              "      <td>2016-09-17T09:18:13Z</td>\n",
              "      <td>Farine de blé noir</td>\n",
              "      <td>NaN</td>\n",
              "      <td>1kg</td>\n",
              "      <td>...</td>\n",
              "      <td>NaN</td>\n",
              "      <td>NaN</td>\n",
              "      <td>NaN</td>\n",
              "      <td>NaN</td>\n",
              "      <td>NaN</td>\n",
              "      <td>NaN</td>\n",
              "      <td>NaN</td>\n",
              "      <td>NaN</td>\n",
              "      <td>NaN</td>\n",
              "      <td>NaN</td>\n",
              "    </tr>\n",
              "    <tr>\n",
              "      <th>1</th>\n",
              "      <td>4530</td>\n",
              "      <td>http://world-fr.openfoodfacts.org/produit/0000...</td>\n",
              "      <td>usda-ndb-import</td>\n",
              "      <td>1489069957</td>\n",
              "      <td>2017-03-09T14:32:37Z</td>\n",
              "      <td>1489069957</td>\n",
              "      <td>2017-03-09T14:32:37Z</td>\n",
              "      <td>Banana Chips Sweetened (Whole)</td>\n",
              "      <td>NaN</td>\n",
              "      <td>NaN</td>\n",
              "      <td>...</td>\n",
              "      <td>NaN</td>\n",
              "      <td>NaN</td>\n",
              "      <td>NaN</td>\n",
              "      <td>NaN</td>\n",
              "      <td>NaN</td>\n",
              "      <td>NaN</td>\n",
              "      <td>14.0</td>\n",
              "      <td>14.0</td>\n",
              "      <td>NaN</td>\n",
              "      <td>NaN</td>\n",
              "    </tr>\n",
              "    <tr>\n",
              "      <th>2</th>\n",
              "      <td>4559</td>\n",
              "      <td>http://world-fr.openfoodfacts.org/produit/0000...</td>\n",
              "      <td>usda-ndb-import</td>\n",
              "      <td>1489069957</td>\n",
              "      <td>2017-03-09T14:32:37Z</td>\n",
              "      <td>1489069957</td>\n",
              "      <td>2017-03-09T14:32:37Z</td>\n",
              "      <td>Peanuts</td>\n",
              "      <td>NaN</td>\n",
              "      <td>NaN</td>\n",
              "      <td>...</td>\n",
              "      <td>NaN</td>\n",
              "      <td>NaN</td>\n",
              "      <td>NaN</td>\n",
              "      <td>NaN</td>\n",
              "      <td>NaN</td>\n",
              "      <td>NaN</td>\n",
              "      <td>0.0</td>\n",
              "      <td>0.0</td>\n",
              "      <td>NaN</td>\n",
              "      <td>NaN</td>\n",
              "    </tr>\n",
              "    <tr>\n",
              "      <th>3</th>\n",
              "      <td>16087</td>\n",
              "      <td>http://world-fr.openfoodfacts.org/produit/0000...</td>\n",
              "      <td>usda-ndb-import</td>\n",
              "      <td>1489055731</td>\n",
              "      <td>2017-03-09T10:35:31Z</td>\n",
              "      <td>1489055731</td>\n",
              "      <td>2017-03-09T10:35:31Z</td>\n",
              "      <td>Organic Salted Nut Mix</td>\n",
              "      <td>NaN</td>\n",
              "      <td>NaN</td>\n",
              "      <td>...</td>\n",
              "      <td>NaN</td>\n",
              "      <td>NaN</td>\n",
              "      <td>NaN</td>\n",
              "      <td>NaN</td>\n",
              "      <td>NaN</td>\n",
              "      <td>NaN</td>\n",
              "      <td>12.0</td>\n",
              "      <td>12.0</td>\n",
              "      <td>NaN</td>\n",
              "      <td>NaN</td>\n",
              "    </tr>\n",
              "    <tr>\n",
              "      <th>4</th>\n",
              "      <td>16094</td>\n",
              "      <td>http://world-fr.openfoodfacts.org/produit/0000...</td>\n",
              "      <td>usda-ndb-import</td>\n",
              "      <td>1489055653</td>\n",
              "      <td>2017-03-09T10:34:13Z</td>\n",
              "      <td>1489055653</td>\n",
              "      <td>2017-03-09T10:34:13Z</td>\n",
              "      <td>Organic Polenta</td>\n",
              "      <td>NaN</td>\n",
              "      <td>NaN</td>\n",
              "      <td>...</td>\n",
              "      <td>NaN</td>\n",
              "      <td>NaN</td>\n",
              "      <td>NaN</td>\n",
              "      <td>NaN</td>\n",
              "      <td>NaN</td>\n",
              "      <td>NaN</td>\n",
              "      <td>NaN</td>\n",
              "      <td>NaN</td>\n",
              "      <td>NaN</td>\n",
              "      <td>NaN</td>\n",
              "    </tr>\n",
              "  </tbody>\n",
              "</table>\n",
              "<p>5 rows × 162 columns</p>\n",
              "</div>"
            ],
            "text/plain": [
              "    code                                                url  \\\n",
              "0   3087  http://world-fr.openfoodfacts.org/produit/0000...   \n",
              "1   4530  http://world-fr.openfoodfacts.org/produit/0000...   \n",
              "2   4559  http://world-fr.openfoodfacts.org/produit/0000...   \n",
              "3  16087  http://world-fr.openfoodfacts.org/produit/0000...   \n",
              "4  16094  http://world-fr.openfoodfacts.org/produit/0000...   \n",
              "\n",
              "                      creator   created_t      created_datetime  \\\n",
              "0  openfoodfacts-contributors  1474103866  2016-09-17T09:17:46Z   \n",
              "1             usda-ndb-import  1489069957  2017-03-09T14:32:37Z   \n",
              "2             usda-ndb-import  1489069957  2017-03-09T14:32:37Z   \n",
              "3             usda-ndb-import  1489055731  2017-03-09T10:35:31Z   \n",
              "4             usda-ndb-import  1489055653  2017-03-09T10:34:13Z   \n",
              "\n",
              "  last_modified_t last_modified_datetime                    product_name  \\\n",
              "0      1474103893   2016-09-17T09:18:13Z              Farine de blé noir   \n",
              "1      1489069957   2017-03-09T14:32:37Z  Banana Chips Sweetened (Whole)   \n",
              "2      1489069957   2017-03-09T14:32:37Z                         Peanuts   \n",
              "3      1489055731   2017-03-09T10:35:31Z          Organic Salted Nut Mix   \n",
              "4      1489055653   2017-03-09T10:34:13Z                 Organic Polenta   \n",
              "\n",
              "  generic_name quantity  ... ph_100g fruits-vegetables-nuts_100g  \\\n",
              "0          NaN      1kg  ...     NaN                         NaN   \n",
              "1          NaN      NaN  ...     NaN                         NaN   \n",
              "2          NaN      NaN  ...     NaN                         NaN   \n",
              "3          NaN      NaN  ...     NaN                         NaN   \n",
              "4          NaN      NaN  ...     NaN                         NaN   \n",
              "\n",
              "  collagen-meat-protein-ratio_100g cocoa_100g chlorophyl_100g  \\\n",
              "0                              NaN        NaN             NaN   \n",
              "1                              NaN        NaN             NaN   \n",
              "2                              NaN        NaN             NaN   \n",
              "3                              NaN        NaN             NaN   \n",
              "4                              NaN        NaN             NaN   \n",
              "\n",
              "  carbon-footprint_100g nutrition-score-fr_100g nutrition-score-uk_100g  \\\n",
              "0                   NaN                     NaN                     NaN   \n",
              "1                   NaN                    14.0                    14.0   \n",
              "2                   NaN                     0.0                     0.0   \n",
              "3                   NaN                    12.0                    12.0   \n",
              "4                   NaN                     NaN                     NaN   \n",
              "\n",
              "  glycemic-index_100g water-hardness_100g  \n",
              "0                 NaN                 NaN  \n",
              "1                 NaN                 NaN  \n",
              "2                 NaN                 NaN  \n",
              "3                 NaN                 NaN  \n",
              "4                 NaN                 NaN  \n",
              "\n",
              "[5 rows x 162 columns]"
            ]
          },
          "execution_count": 317,
          "metadata": {},
          "output_type": "execute_result"
        }
      ],
      "source": [
        "df = pd.read_csv(\"./data/fr.openfoodfacts.org.products.csv\", sep=\"\\t\")\n",
        "\n",
        "df.head()"
      ]
    },
    {
      "cell_type": "markdown",
      "metadata": {
        "id": "3JsCHlZjivJK"
      },
      "source": [
        "    1.3 Prendre connaissance du DataFrame\n"
      ]
    },
    {
      "cell_type": "code",
      "execution_count": 318,
      "metadata": {
        "colab": {
          "base_uri": "https://localhost:8080/"
        },
        "id": "r3d2PtPyi51z",
        "outputId": "2897482f-f8f1-483a-a85a-e1e90233f739"
      },
      "outputs": [
        {
          "name": "stdout",
          "output_type": "stream",
          "text": [
            "<class 'pandas.core.frame.DataFrame'>\n",
            "RangeIndex: 320772 entries, 0 to 320771\n",
            "Columns: 162 entries, code to water-hardness_100g\n",
            "dtypes: float64(106), object(56)\n",
            "memory usage: 396.5+ MB\n"
          ]
        }
      ],
      "source": [
        "df.info()"
      ]
    },
    {
      "cell_type": "code",
      "execution_count": 319,
      "metadata": {
        "colab": {
          "base_uri": "https://localhost:8080/",
          "height": 478
        },
        "id": "2hFk2CpZkVHp",
        "outputId": "658182fe-ca6b-4189-b844-a7a500ed244b"
      },
      "outputs": [
        {
          "data": {
            "text/html": [
              "<div>\n",
              "<style scoped>\n",
              "    .dataframe tbody tr th:only-of-type {\n",
              "        vertical-align: middle;\n",
              "    }\n",
              "\n",
              "    .dataframe tbody tr th {\n",
              "        vertical-align: top;\n",
              "    }\n",
              "\n",
              "    .dataframe thead th {\n",
              "        text-align: right;\n",
              "    }\n",
              "</style>\n",
              "<table border=\"1\" class=\"dataframe\">\n",
              "  <thead>\n",
              "    <tr style=\"text-align: right;\">\n",
              "      <th></th>\n",
              "      <th>code</th>\n",
              "      <th>url</th>\n",
              "      <th>creator</th>\n",
              "      <th>created_t</th>\n",
              "      <th>created_datetime</th>\n",
              "      <th>last_modified_t</th>\n",
              "      <th>last_modified_datetime</th>\n",
              "      <th>product_name</th>\n",
              "      <th>generic_name</th>\n",
              "      <th>quantity</th>\n",
              "      <th>...</th>\n",
              "      <th>ph_100g</th>\n",
              "      <th>fruits-vegetables-nuts_100g</th>\n",
              "      <th>collagen-meat-protein-ratio_100g</th>\n",
              "      <th>cocoa_100g</th>\n",
              "      <th>chlorophyl_100g</th>\n",
              "      <th>carbon-footprint_100g</th>\n",
              "      <th>nutrition-score-fr_100g</th>\n",
              "      <th>nutrition-score-uk_100g</th>\n",
              "      <th>glycemic-index_100g</th>\n",
              "      <th>water-hardness_100g</th>\n",
              "    </tr>\n",
              "  </thead>\n",
              "  <tbody>\n",
              "    <tr>\n",
              "      <th>0</th>\n",
              "      <td>False</td>\n",
              "      <td>False</td>\n",
              "      <td>False</td>\n",
              "      <td>False</td>\n",
              "      <td>False</td>\n",
              "      <td>False</td>\n",
              "      <td>False</td>\n",
              "      <td>False</td>\n",
              "      <td>True</td>\n",
              "      <td>False</td>\n",
              "      <td>...</td>\n",
              "      <td>True</td>\n",
              "      <td>True</td>\n",
              "      <td>True</td>\n",
              "      <td>True</td>\n",
              "      <td>True</td>\n",
              "      <td>True</td>\n",
              "      <td>True</td>\n",
              "      <td>True</td>\n",
              "      <td>True</td>\n",
              "      <td>True</td>\n",
              "    </tr>\n",
              "    <tr>\n",
              "      <th>1</th>\n",
              "      <td>False</td>\n",
              "      <td>False</td>\n",
              "      <td>False</td>\n",
              "      <td>False</td>\n",
              "      <td>False</td>\n",
              "      <td>False</td>\n",
              "      <td>False</td>\n",
              "      <td>False</td>\n",
              "      <td>True</td>\n",
              "      <td>True</td>\n",
              "      <td>...</td>\n",
              "      <td>True</td>\n",
              "      <td>True</td>\n",
              "      <td>True</td>\n",
              "      <td>True</td>\n",
              "      <td>True</td>\n",
              "      <td>True</td>\n",
              "      <td>False</td>\n",
              "      <td>False</td>\n",
              "      <td>True</td>\n",
              "      <td>True</td>\n",
              "    </tr>\n",
              "    <tr>\n",
              "      <th>2</th>\n",
              "      <td>False</td>\n",
              "      <td>False</td>\n",
              "      <td>False</td>\n",
              "      <td>False</td>\n",
              "      <td>False</td>\n",
              "      <td>False</td>\n",
              "      <td>False</td>\n",
              "      <td>False</td>\n",
              "      <td>True</td>\n",
              "      <td>True</td>\n",
              "      <td>...</td>\n",
              "      <td>True</td>\n",
              "      <td>True</td>\n",
              "      <td>True</td>\n",
              "      <td>True</td>\n",
              "      <td>True</td>\n",
              "      <td>True</td>\n",
              "      <td>False</td>\n",
              "      <td>False</td>\n",
              "      <td>True</td>\n",
              "      <td>True</td>\n",
              "    </tr>\n",
              "    <tr>\n",
              "      <th>3</th>\n",
              "      <td>False</td>\n",
              "      <td>False</td>\n",
              "      <td>False</td>\n",
              "      <td>False</td>\n",
              "      <td>False</td>\n",
              "      <td>False</td>\n",
              "      <td>False</td>\n",
              "      <td>False</td>\n",
              "      <td>True</td>\n",
              "      <td>True</td>\n",
              "      <td>...</td>\n",
              "      <td>True</td>\n",
              "      <td>True</td>\n",
              "      <td>True</td>\n",
              "      <td>True</td>\n",
              "      <td>True</td>\n",
              "      <td>True</td>\n",
              "      <td>False</td>\n",
              "      <td>False</td>\n",
              "      <td>True</td>\n",
              "      <td>True</td>\n",
              "    </tr>\n",
              "    <tr>\n",
              "      <th>4</th>\n",
              "      <td>False</td>\n",
              "      <td>False</td>\n",
              "      <td>False</td>\n",
              "      <td>False</td>\n",
              "      <td>False</td>\n",
              "      <td>False</td>\n",
              "      <td>False</td>\n",
              "      <td>False</td>\n",
              "      <td>True</td>\n",
              "      <td>True</td>\n",
              "      <td>...</td>\n",
              "      <td>True</td>\n",
              "      <td>True</td>\n",
              "      <td>True</td>\n",
              "      <td>True</td>\n",
              "      <td>True</td>\n",
              "      <td>True</td>\n",
              "      <td>True</td>\n",
              "      <td>True</td>\n",
              "      <td>True</td>\n",
              "      <td>True</td>\n",
              "    </tr>\n",
              "    <tr>\n",
              "      <th>...</th>\n",
              "      <td>...</td>\n",
              "      <td>...</td>\n",
              "      <td>...</td>\n",
              "      <td>...</td>\n",
              "      <td>...</td>\n",
              "      <td>...</td>\n",
              "      <td>...</td>\n",
              "      <td>...</td>\n",
              "      <td>...</td>\n",
              "      <td>...</td>\n",
              "      <td>...</td>\n",
              "      <td>...</td>\n",
              "      <td>...</td>\n",
              "      <td>...</td>\n",
              "      <td>...</td>\n",
              "      <td>...</td>\n",
              "      <td>...</td>\n",
              "      <td>...</td>\n",
              "      <td>...</td>\n",
              "      <td>...</td>\n",
              "      <td>...</td>\n",
              "    </tr>\n",
              "    <tr>\n",
              "      <th>320767</th>\n",
              "      <td>False</td>\n",
              "      <td>False</td>\n",
              "      <td>False</td>\n",
              "      <td>False</td>\n",
              "      <td>False</td>\n",
              "      <td>False</td>\n",
              "      <td>False</td>\n",
              "      <td>False</td>\n",
              "      <td>True</td>\n",
              "      <td>False</td>\n",
              "      <td>...</td>\n",
              "      <td>True</td>\n",
              "      <td>True</td>\n",
              "      <td>True</td>\n",
              "      <td>True</td>\n",
              "      <td>True</td>\n",
              "      <td>True</td>\n",
              "      <td>True</td>\n",
              "      <td>True</td>\n",
              "      <td>True</td>\n",
              "      <td>True</td>\n",
              "    </tr>\n",
              "    <tr>\n",
              "      <th>320768</th>\n",
              "      <td>False</td>\n",
              "      <td>False</td>\n",
              "      <td>False</td>\n",
              "      <td>False</td>\n",
              "      <td>False</td>\n",
              "      <td>False</td>\n",
              "      <td>False</td>\n",
              "      <td>False</td>\n",
              "      <td>True</td>\n",
              "      <td>True</td>\n",
              "      <td>...</td>\n",
              "      <td>True</td>\n",
              "      <td>True</td>\n",
              "      <td>True</td>\n",
              "      <td>True</td>\n",
              "      <td>True</td>\n",
              "      <td>True</td>\n",
              "      <td>False</td>\n",
              "      <td>False</td>\n",
              "      <td>True</td>\n",
              "      <td>True</td>\n",
              "    </tr>\n",
              "    <tr>\n",
              "      <th>320769</th>\n",
              "      <td>False</td>\n",
              "      <td>False</td>\n",
              "      <td>False</td>\n",
              "      <td>False</td>\n",
              "      <td>False</td>\n",
              "      <td>False</td>\n",
              "      <td>False</td>\n",
              "      <td>False</td>\n",
              "      <td>False</td>\n",
              "      <td>False</td>\n",
              "      <td>...</td>\n",
              "      <td>True</td>\n",
              "      <td>True</td>\n",
              "      <td>True</td>\n",
              "      <td>True</td>\n",
              "      <td>True</td>\n",
              "      <td>True</td>\n",
              "      <td>True</td>\n",
              "      <td>True</td>\n",
              "      <td>True</td>\n",
              "      <td>True</td>\n",
              "    </tr>\n",
              "    <tr>\n",
              "      <th>320770</th>\n",
              "      <td>False</td>\n",
              "      <td>False</td>\n",
              "      <td>False</td>\n",
              "      <td>False</td>\n",
              "      <td>False</td>\n",
              "      <td>False</td>\n",
              "      <td>False</td>\n",
              "      <td>False</td>\n",
              "      <td>True</td>\n",
              "      <td>False</td>\n",
              "      <td>...</td>\n",
              "      <td>True</td>\n",
              "      <td>True</td>\n",
              "      <td>True</td>\n",
              "      <td>True</td>\n",
              "      <td>True</td>\n",
              "      <td>True</td>\n",
              "      <td>True</td>\n",
              "      <td>True</td>\n",
              "      <td>True</td>\n",
              "      <td>True</td>\n",
              "    </tr>\n",
              "    <tr>\n",
              "      <th>320771</th>\n",
              "      <td>False</td>\n",
              "      <td>False</td>\n",
              "      <td>False</td>\n",
              "      <td>False</td>\n",
              "      <td>False</td>\n",
              "      <td>False</td>\n",
              "      <td>False</td>\n",
              "      <td>False</td>\n",
              "      <td>True</td>\n",
              "      <td>True</td>\n",
              "      <td>...</td>\n",
              "      <td>True</td>\n",
              "      <td>True</td>\n",
              "      <td>True</td>\n",
              "      <td>True</td>\n",
              "      <td>True</td>\n",
              "      <td>True</td>\n",
              "      <td>True</td>\n",
              "      <td>True</td>\n",
              "      <td>True</td>\n",
              "      <td>True</td>\n",
              "    </tr>\n",
              "  </tbody>\n",
              "</table>\n",
              "<p>320772 rows × 162 columns</p>\n",
              "</div>"
            ],
            "text/plain": [
              "         code    url  creator  created_t  created_datetime  last_modified_t  \\\n",
              "0       False  False    False      False             False            False   \n",
              "1       False  False    False      False             False            False   \n",
              "2       False  False    False      False             False            False   \n",
              "3       False  False    False      False             False            False   \n",
              "4       False  False    False      False             False            False   \n",
              "...       ...    ...      ...        ...               ...              ...   \n",
              "320767  False  False    False      False             False            False   \n",
              "320768  False  False    False      False             False            False   \n",
              "320769  False  False    False      False             False            False   \n",
              "320770  False  False    False      False             False            False   \n",
              "320771  False  False    False      False             False            False   \n",
              "\n",
              "        last_modified_datetime  product_name  generic_name  quantity  ...  \\\n",
              "0                        False         False          True     False  ...   \n",
              "1                        False         False          True      True  ...   \n",
              "2                        False         False          True      True  ...   \n",
              "3                        False         False          True      True  ...   \n",
              "4                        False         False          True      True  ...   \n",
              "...                        ...           ...           ...       ...  ...   \n",
              "320767                   False         False          True     False  ...   \n",
              "320768                   False         False          True      True  ...   \n",
              "320769                   False         False         False     False  ...   \n",
              "320770                   False         False          True     False  ...   \n",
              "320771                   False         False          True      True  ...   \n",
              "\n",
              "        ph_100g  fruits-vegetables-nuts_100g  \\\n",
              "0          True                         True   \n",
              "1          True                         True   \n",
              "2          True                         True   \n",
              "3          True                         True   \n",
              "4          True                         True   \n",
              "...         ...                          ...   \n",
              "320767     True                         True   \n",
              "320768     True                         True   \n",
              "320769     True                         True   \n",
              "320770     True                         True   \n",
              "320771     True                         True   \n",
              "\n",
              "        collagen-meat-protein-ratio_100g  cocoa_100g  chlorophyl_100g  \\\n",
              "0                                   True        True             True   \n",
              "1                                   True        True             True   \n",
              "2                                   True        True             True   \n",
              "3                                   True        True             True   \n",
              "4                                   True        True             True   \n",
              "...                                  ...         ...              ...   \n",
              "320767                              True        True             True   \n",
              "320768                              True        True             True   \n",
              "320769                              True        True             True   \n",
              "320770                              True        True             True   \n",
              "320771                              True        True             True   \n",
              "\n",
              "        carbon-footprint_100g  nutrition-score-fr_100g  \\\n",
              "0                        True                     True   \n",
              "1                        True                    False   \n",
              "2                        True                    False   \n",
              "3                        True                    False   \n",
              "4                        True                     True   \n",
              "...                       ...                      ...   \n",
              "320767                   True                     True   \n",
              "320768                   True                    False   \n",
              "320769                   True                     True   \n",
              "320770                   True                     True   \n",
              "320771                   True                     True   \n",
              "\n",
              "        nutrition-score-uk_100g  glycemic-index_100g  water-hardness_100g  \n",
              "0                          True                 True                 True  \n",
              "1                         False                 True                 True  \n",
              "2                         False                 True                 True  \n",
              "3                         False                 True                 True  \n",
              "4                          True                 True                 True  \n",
              "...                         ...                  ...                  ...  \n",
              "320767                     True                 True                 True  \n",
              "320768                    False                 True                 True  \n",
              "320769                     True                 True                 True  \n",
              "320770                     True                 True                 True  \n",
              "320771                     True                 True                 True  \n",
              "\n",
              "[320772 rows x 162 columns]"
            ]
          },
          "execution_count": 319,
          "metadata": {},
          "output_type": "execute_result"
        }
      ],
      "source": [
        "df.isnull()"
      ]
    },
    {
      "cell_type": "code",
      "execution_count": 320,
      "metadata": {
        "colab": {
          "base_uri": "https://localhost:8080/",
          "height": 478
        },
        "id": "6FtEO02tktOD",
        "outputId": "652d1529-f10a-48f1-f4e9-5ef980665b97"
      },
      "outputs": [
        {
          "data": {
            "text/html": [
              "<div>\n",
              "<style scoped>\n",
              "    .dataframe tbody tr th:only-of-type {\n",
              "        vertical-align: middle;\n",
              "    }\n",
              "\n",
              "    .dataframe tbody tr th {\n",
              "        vertical-align: top;\n",
              "    }\n",
              "\n",
              "    .dataframe thead th {\n",
              "        text-align: right;\n",
              "    }\n",
              "</style>\n",
              "<table border=\"1\" class=\"dataframe\">\n",
              "  <thead>\n",
              "    <tr style=\"text-align: right;\">\n",
              "      <th></th>\n",
              "      <th>code</th>\n",
              "      <th>url</th>\n",
              "      <th>creator</th>\n",
              "      <th>created_t</th>\n",
              "      <th>created_datetime</th>\n",
              "      <th>last_modified_t</th>\n",
              "      <th>last_modified_datetime</th>\n",
              "      <th>product_name</th>\n",
              "      <th>generic_name</th>\n",
              "      <th>quantity</th>\n",
              "      <th>...</th>\n",
              "      <th>ph_100g</th>\n",
              "      <th>fruits-vegetables-nuts_100g</th>\n",
              "      <th>collagen-meat-protein-ratio_100g</th>\n",
              "      <th>cocoa_100g</th>\n",
              "      <th>chlorophyl_100g</th>\n",
              "      <th>carbon-footprint_100g</th>\n",
              "      <th>nutrition-score-fr_100g</th>\n",
              "      <th>nutrition-score-uk_100g</th>\n",
              "      <th>glycemic-index_100g</th>\n",
              "      <th>water-hardness_100g</th>\n",
              "    </tr>\n",
              "  </thead>\n",
              "  <tbody>\n",
              "    <tr>\n",
              "      <th>0</th>\n",
              "      <td>False</td>\n",
              "      <td>False</td>\n",
              "      <td>False</td>\n",
              "      <td>False</td>\n",
              "      <td>False</td>\n",
              "      <td>False</td>\n",
              "      <td>False</td>\n",
              "      <td>False</td>\n",
              "      <td>True</td>\n",
              "      <td>False</td>\n",
              "      <td>...</td>\n",
              "      <td>True</td>\n",
              "      <td>True</td>\n",
              "      <td>True</td>\n",
              "      <td>True</td>\n",
              "      <td>True</td>\n",
              "      <td>True</td>\n",
              "      <td>True</td>\n",
              "      <td>True</td>\n",
              "      <td>True</td>\n",
              "      <td>True</td>\n",
              "    </tr>\n",
              "    <tr>\n",
              "      <th>1</th>\n",
              "      <td>False</td>\n",
              "      <td>False</td>\n",
              "      <td>False</td>\n",
              "      <td>False</td>\n",
              "      <td>False</td>\n",
              "      <td>False</td>\n",
              "      <td>False</td>\n",
              "      <td>False</td>\n",
              "      <td>True</td>\n",
              "      <td>True</td>\n",
              "      <td>...</td>\n",
              "      <td>True</td>\n",
              "      <td>True</td>\n",
              "      <td>True</td>\n",
              "      <td>True</td>\n",
              "      <td>True</td>\n",
              "      <td>True</td>\n",
              "      <td>False</td>\n",
              "      <td>False</td>\n",
              "      <td>True</td>\n",
              "      <td>True</td>\n",
              "    </tr>\n",
              "    <tr>\n",
              "      <th>2</th>\n",
              "      <td>False</td>\n",
              "      <td>False</td>\n",
              "      <td>False</td>\n",
              "      <td>False</td>\n",
              "      <td>False</td>\n",
              "      <td>False</td>\n",
              "      <td>False</td>\n",
              "      <td>False</td>\n",
              "      <td>True</td>\n",
              "      <td>True</td>\n",
              "      <td>...</td>\n",
              "      <td>True</td>\n",
              "      <td>True</td>\n",
              "      <td>True</td>\n",
              "      <td>True</td>\n",
              "      <td>True</td>\n",
              "      <td>True</td>\n",
              "      <td>False</td>\n",
              "      <td>False</td>\n",
              "      <td>True</td>\n",
              "      <td>True</td>\n",
              "    </tr>\n",
              "    <tr>\n",
              "      <th>3</th>\n",
              "      <td>False</td>\n",
              "      <td>False</td>\n",
              "      <td>False</td>\n",
              "      <td>False</td>\n",
              "      <td>False</td>\n",
              "      <td>False</td>\n",
              "      <td>False</td>\n",
              "      <td>False</td>\n",
              "      <td>True</td>\n",
              "      <td>True</td>\n",
              "      <td>...</td>\n",
              "      <td>True</td>\n",
              "      <td>True</td>\n",
              "      <td>True</td>\n",
              "      <td>True</td>\n",
              "      <td>True</td>\n",
              "      <td>True</td>\n",
              "      <td>False</td>\n",
              "      <td>False</td>\n",
              "      <td>True</td>\n",
              "      <td>True</td>\n",
              "    </tr>\n",
              "    <tr>\n",
              "      <th>4</th>\n",
              "      <td>False</td>\n",
              "      <td>False</td>\n",
              "      <td>False</td>\n",
              "      <td>False</td>\n",
              "      <td>False</td>\n",
              "      <td>False</td>\n",
              "      <td>False</td>\n",
              "      <td>False</td>\n",
              "      <td>True</td>\n",
              "      <td>True</td>\n",
              "      <td>...</td>\n",
              "      <td>True</td>\n",
              "      <td>True</td>\n",
              "      <td>True</td>\n",
              "      <td>True</td>\n",
              "      <td>True</td>\n",
              "      <td>True</td>\n",
              "      <td>True</td>\n",
              "      <td>True</td>\n",
              "      <td>True</td>\n",
              "      <td>True</td>\n",
              "    </tr>\n",
              "    <tr>\n",
              "      <th>...</th>\n",
              "      <td>...</td>\n",
              "      <td>...</td>\n",
              "      <td>...</td>\n",
              "      <td>...</td>\n",
              "      <td>...</td>\n",
              "      <td>...</td>\n",
              "      <td>...</td>\n",
              "      <td>...</td>\n",
              "      <td>...</td>\n",
              "      <td>...</td>\n",
              "      <td>...</td>\n",
              "      <td>...</td>\n",
              "      <td>...</td>\n",
              "      <td>...</td>\n",
              "      <td>...</td>\n",
              "      <td>...</td>\n",
              "      <td>...</td>\n",
              "      <td>...</td>\n",
              "      <td>...</td>\n",
              "      <td>...</td>\n",
              "      <td>...</td>\n",
              "    </tr>\n",
              "    <tr>\n",
              "      <th>320767</th>\n",
              "      <td>False</td>\n",
              "      <td>False</td>\n",
              "      <td>False</td>\n",
              "      <td>False</td>\n",
              "      <td>False</td>\n",
              "      <td>False</td>\n",
              "      <td>False</td>\n",
              "      <td>False</td>\n",
              "      <td>True</td>\n",
              "      <td>False</td>\n",
              "      <td>...</td>\n",
              "      <td>True</td>\n",
              "      <td>True</td>\n",
              "      <td>True</td>\n",
              "      <td>True</td>\n",
              "      <td>True</td>\n",
              "      <td>True</td>\n",
              "      <td>True</td>\n",
              "      <td>True</td>\n",
              "      <td>True</td>\n",
              "      <td>True</td>\n",
              "    </tr>\n",
              "    <tr>\n",
              "      <th>320768</th>\n",
              "      <td>False</td>\n",
              "      <td>False</td>\n",
              "      <td>False</td>\n",
              "      <td>False</td>\n",
              "      <td>False</td>\n",
              "      <td>False</td>\n",
              "      <td>False</td>\n",
              "      <td>False</td>\n",
              "      <td>True</td>\n",
              "      <td>True</td>\n",
              "      <td>...</td>\n",
              "      <td>True</td>\n",
              "      <td>True</td>\n",
              "      <td>True</td>\n",
              "      <td>True</td>\n",
              "      <td>True</td>\n",
              "      <td>True</td>\n",
              "      <td>False</td>\n",
              "      <td>False</td>\n",
              "      <td>True</td>\n",
              "      <td>True</td>\n",
              "    </tr>\n",
              "    <tr>\n",
              "      <th>320769</th>\n",
              "      <td>False</td>\n",
              "      <td>False</td>\n",
              "      <td>False</td>\n",
              "      <td>False</td>\n",
              "      <td>False</td>\n",
              "      <td>False</td>\n",
              "      <td>False</td>\n",
              "      <td>False</td>\n",
              "      <td>False</td>\n",
              "      <td>False</td>\n",
              "      <td>...</td>\n",
              "      <td>True</td>\n",
              "      <td>True</td>\n",
              "      <td>True</td>\n",
              "      <td>True</td>\n",
              "      <td>True</td>\n",
              "      <td>True</td>\n",
              "      <td>True</td>\n",
              "      <td>True</td>\n",
              "      <td>True</td>\n",
              "      <td>True</td>\n",
              "    </tr>\n",
              "    <tr>\n",
              "      <th>320770</th>\n",
              "      <td>False</td>\n",
              "      <td>False</td>\n",
              "      <td>False</td>\n",
              "      <td>False</td>\n",
              "      <td>False</td>\n",
              "      <td>False</td>\n",
              "      <td>False</td>\n",
              "      <td>False</td>\n",
              "      <td>True</td>\n",
              "      <td>False</td>\n",
              "      <td>...</td>\n",
              "      <td>True</td>\n",
              "      <td>True</td>\n",
              "      <td>True</td>\n",
              "      <td>True</td>\n",
              "      <td>True</td>\n",
              "      <td>True</td>\n",
              "      <td>True</td>\n",
              "      <td>True</td>\n",
              "      <td>True</td>\n",
              "      <td>True</td>\n",
              "    </tr>\n",
              "    <tr>\n",
              "      <th>320771</th>\n",
              "      <td>False</td>\n",
              "      <td>False</td>\n",
              "      <td>False</td>\n",
              "      <td>False</td>\n",
              "      <td>False</td>\n",
              "      <td>False</td>\n",
              "      <td>False</td>\n",
              "      <td>False</td>\n",
              "      <td>True</td>\n",
              "      <td>True</td>\n",
              "      <td>...</td>\n",
              "      <td>True</td>\n",
              "      <td>True</td>\n",
              "      <td>True</td>\n",
              "      <td>True</td>\n",
              "      <td>True</td>\n",
              "      <td>True</td>\n",
              "      <td>True</td>\n",
              "      <td>True</td>\n",
              "      <td>True</td>\n",
              "      <td>True</td>\n",
              "    </tr>\n",
              "  </tbody>\n",
              "</table>\n",
              "<p>320772 rows × 162 columns</p>\n",
              "</div>"
            ],
            "text/plain": [
              "         code    url  creator  created_t  created_datetime  last_modified_t  \\\n",
              "0       False  False    False      False             False            False   \n",
              "1       False  False    False      False             False            False   \n",
              "2       False  False    False      False             False            False   \n",
              "3       False  False    False      False             False            False   \n",
              "4       False  False    False      False             False            False   \n",
              "...       ...    ...      ...        ...               ...              ...   \n",
              "320767  False  False    False      False             False            False   \n",
              "320768  False  False    False      False             False            False   \n",
              "320769  False  False    False      False             False            False   \n",
              "320770  False  False    False      False             False            False   \n",
              "320771  False  False    False      False             False            False   \n",
              "\n",
              "        last_modified_datetime  product_name  generic_name  quantity  ...  \\\n",
              "0                        False         False          True     False  ...   \n",
              "1                        False         False          True      True  ...   \n",
              "2                        False         False          True      True  ...   \n",
              "3                        False         False          True      True  ...   \n",
              "4                        False         False          True      True  ...   \n",
              "...                        ...           ...           ...       ...  ...   \n",
              "320767                   False         False          True     False  ...   \n",
              "320768                   False         False          True      True  ...   \n",
              "320769                   False         False         False     False  ...   \n",
              "320770                   False         False          True     False  ...   \n",
              "320771                   False         False          True      True  ...   \n",
              "\n",
              "        ph_100g  fruits-vegetables-nuts_100g  \\\n",
              "0          True                         True   \n",
              "1          True                         True   \n",
              "2          True                         True   \n",
              "3          True                         True   \n",
              "4          True                         True   \n",
              "...         ...                          ...   \n",
              "320767     True                         True   \n",
              "320768     True                         True   \n",
              "320769     True                         True   \n",
              "320770     True                         True   \n",
              "320771     True                         True   \n",
              "\n",
              "        collagen-meat-protein-ratio_100g  cocoa_100g  chlorophyl_100g  \\\n",
              "0                                   True        True             True   \n",
              "1                                   True        True             True   \n",
              "2                                   True        True             True   \n",
              "3                                   True        True             True   \n",
              "4                                   True        True             True   \n",
              "...                                  ...         ...              ...   \n",
              "320767                              True        True             True   \n",
              "320768                              True        True             True   \n",
              "320769                              True        True             True   \n",
              "320770                              True        True             True   \n",
              "320771                              True        True             True   \n",
              "\n",
              "        carbon-footprint_100g  nutrition-score-fr_100g  \\\n",
              "0                        True                     True   \n",
              "1                        True                    False   \n",
              "2                        True                    False   \n",
              "3                        True                    False   \n",
              "4                        True                     True   \n",
              "...                       ...                      ...   \n",
              "320767                   True                     True   \n",
              "320768                   True                    False   \n",
              "320769                   True                     True   \n",
              "320770                   True                     True   \n",
              "320771                   True                     True   \n",
              "\n",
              "        nutrition-score-uk_100g  glycemic-index_100g  water-hardness_100g  \n",
              "0                          True                 True                 True  \n",
              "1                         False                 True                 True  \n",
              "2                         False                 True                 True  \n",
              "3                         False                 True                 True  \n",
              "4                          True                 True                 True  \n",
              "...                         ...                  ...                  ...  \n",
              "320767                     True                 True                 True  \n",
              "320768                    False                 True                 True  \n",
              "320769                     True                 True                 True  \n",
              "320770                     True                 True                 True  \n",
              "320771                     True                 True                 True  \n",
              "\n",
              "[320772 rows x 162 columns]"
            ]
          },
          "execution_count": 320,
          "metadata": {},
          "output_type": "execute_result"
        }
      ],
      "source": [
        "df.isna()"
      ]
    },
    {
      "cell_type": "code",
      "execution_count": 321,
      "metadata": {},
      "outputs": [
        {
          "data": {
            "text/plain": [
              "<Axes: >"
            ]
          },
          "execution_count": 321,
          "metadata": {},
          "output_type": "execute_result"
        },
        {
          "data": {
            "image/png": "[encoded data removed]",
            "text/plain": [
              "<Figure size 2500x1000 with 2 Axes>"
            ]
          },
          "metadata": {},
          "output_type": "display_data"
        }
      ],
      "source": [
        "import missingno as msno\n",
        "\n",
        "msno.matrix(df)"
      ]
    },
    {
      "cell_type": "code",
      "execution_count": null,
      "metadata": {},
      "outputs": [],
      "source": []
    },
    {
      "cell_type": "code",
      "execution_count": 322,
      "metadata": {},
      "outputs": [],
      "source": [
        "#Prise en compte des données de la base de données "
      ]
    },
    {
      "cell_type": "code",
      "execution_count": 323,
      "metadata": {
        "colab": {
          "base_uri": "https://localhost:8080/"
        },
        "id": "VxAg1s4Ml-AP",
        "outputId": "108a2ef4-fa2a-4100-eba9-6e39b428cb56"
      },
      "outputs": [
        {
          "data": {
            "text/plain": [
              "(320772, 162)"
            ]
          },
          "execution_count": 323,
          "metadata": {},
          "output_type": "execute_result"
        }
      ],
      "source": [
        "df.shape"
      ]
    },
    {
      "cell_type": "code",
      "execution_count": 324,
      "metadata": {
        "colab": {
          "base_uri": "https://localhost:8080/"
        },
        "id": "c3ups9DjnpVo",
        "outputId": "21c41184-f3d7-45e8-add5-6e522bb3c286"
      },
      "outputs": [
        {
          "name": "stdout",
          "output_type": "stream",
          "text": [
            "<class 'pandas.core.frame.DataFrame'>\n",
            "RangeIndex: 320772 entries, 0 to 320771\n",
            "Columns: 162 entries, code to water-hardness_100g\n",
            "dtypes: float64(106), object(56)\n",
            "memory usage: 396.5+ MB\n"
          ]
        }
      ],
      "source": [
        "df.info()"
      ]
    },
    {
      "cell_type": "markdown",
      "metadata": {
        "id": "KnaulKQQpzsE"
      },
      "source": []
    },
    {
      "cell_type": "markdown",
      "metadata": {
        "id": "pVJ0x9EQxFLW"
      },
      "source": [
        "<!-- ############ Suppression des colonnes -->\n"
      ]
    },
    {
      "cell_type": "markdown",
      "metadata": {
        "id": "az9tEzohzQIX"
      },
      "source": [
        "<!-- Suppression de Certaines colonnes -->\n"
      ]
    },
    {
      "cell_type": "code",
      "execution_count": null,
      "metadata": {
        "colab": {
          "base_uri": "https://localhost:8080/",
          "height": 348
        },
        "id": "d0E8iPRRxVRX",
        "outputId": "9b15f728-b2d1-45bb-ab12-5e264981502f"
      },
      "outputs": [],
      "source": []
    },
    {
      "cell_type": "code",
      "execution_count": 325,
      "metadata": {},
      "outputs": [],
      "source": [
        "colonnes_a_garder = [\n",
        "    'code',\n",
        "    'product_name',\n",
        "    'countries',\n",
        "    'nutrition_grade_fr',\n",
        "    'pnns_groups_1',\n",
        "    'pnns_groups_2',\n",
        "    'energy_100g',\n",
        "    'sugars_100g',\n",
        "    'nutrition-score-fr_100g'\n",
        "]\n",
        "\n",
        "df = df[colonnes_a_garder].copy()\n"
      ]
    },
    {
      "cell_type": "code",
      "execution_count": 326,
      "metadata": {
        "colab": {
          "base_uri": "https://localhost:8080/"
        },
        "id": "GoT3DM4mlOS3",
        "outputId": "d05dfc9c-9fad-4f5a-b474-0e68b9a7e05a"
      },
      "outputs": [
        {
          "data": {
            "text/html": [
              "<div>\n",
              "<style scoped>\n",
              "    .dataframe tbody tr th:only-of-type {\n",
              "        vertical-align: middle;\n",
              "    }\n",
              "\n",
              "    .dataframe tbody tr th {\n",
              "        vertical-align: top;\n",
              "    }\n",
              "\n",
              "    .dataframe thead th {\n",
              "        text-align: right;\n",
              "    }\n",
              "</style>\n",
              "<table border=\"1\" class=\"dataframe\">\n",
              "  <thead>\n",
              "    <tr style=\"text-align: right;\">\n",
              "      <th></th>\n",
              "      <th>code</th>\n",
              "      <th>product_name</th>\n",
              "      <th>countries</th>\n",
              "      <th>nutrition_grade_fr</th>\n",
              "      <th>pnns_groups_1</th>\n",
              "      <th>pnns_groups_2</th>\n",
              "      <th>energy_100g</th>\n",
              "      <th>sugars_100g</th>\n",
              "      <th>nutrition-score-fr_100g</th>\n",
              "    </tr>\n",
              "  </thead>\n",
              "  <tbody>\n",
              "    <tr>\n",
              "      <th>0</th>\n",
              "      <td>3087</td>\n",
              "      <td>Farine de blé noir</td>\n",
              "      <td>en:FR</td>\n",
              "      <td>NaN</td>\n",
              "      <td>NaN</td>\n",
              "      <td>NaN</td>\n",
              "      <td>NaN</td>\n",
              "      <td>NaN</td>\n",
              "      <td>NaN</td>\n",
              "    </tr>\n",
              "    <tr>\n",
              "      <th>1</th>\n",
              "      <td>4530</td>\n",
              "      <td>Banana Chips Sweetened (Whole)</td>\n",
              "      <td>US</td>\n",
              "      <td>d</td>\n",
              "      <td>NaN</td>\n",
              "      <td>NaN</td>\n",
              "      <td>2243.0</td>\n",
              "      <td>14.29</td>\n",
              "      <td>14.0</td>\n",
              "    </tr>\n",
              "    <tr>\n",
              "      <th>2</th>\n",
              "      <td>4559</td>\n",
              "      <td>Peanuts</td>\n",
              "      <td>US</td>\n",
              "      <td>b</td>\n",
              "      <td>NaN</td>\n",
              "      <td>NaN</td>\n",
              "      <td>1941.0</td>\n",
              "      <td>17.86</td>\n",
              "      <td>0.0</td>\n",
              "    </tr>\n",
              "    <tr>\n",
              "      <th>3</th>\n",
              "      <td>16087</td>\n",
              "      <td>Organic Salted Nut Mix</td>\n",
              "      <td>US</td>\n",
              "      <td>d</td>\n",
              "      <td>NaN</td>\n",
              "      <td>NaN</td>\n",
              "      <td>2540.0</td>\n",
              "      <td>3.57</td>\n",
              "      <td>12.0</td>\n",
              "    </tr>\n",
              "    <tr>\n",
              "      <th>4</th>\n",
              "      <td>16094</td>\n",
              "      <td>Organic Polenta</td>\n",
              "      <td>US</td>\n",
              "      <td>NaN</td>\n",
              "      <td>NaN</td>\n",
              "      <td>NaN</td>\n",
              "      <td>1552.0</td>\n",
              "      <td>NaN</td>\n",
              "      <td>NaN</td>\n",
              "    </tr>\n",
              "  </tbody>\n",
              "</table>\n",
              "</div>"
            ],
            "text/plain": [
              "    code                    product_name countries nutrition_grade_fr  \\\n",
              "0   3087              Farine de blé noir     en:FR                NaN   \n",
              "1   4530  Banana Chips Sweetened (Whole)        US                  d   \n",
              "2   4559                         Peanuts        US                  b   \n",
              "3  16087          Organic Salted Nut Mix        US                  d   \n",
              "4  16094                 Organic Polenta        US                NaN   \n",
              "\n",
              "  pnns_groups_1 pnns_groups_2  energy_100g  sugars_100g  \\\n",
              "0           NaN           NaN          NaN          NaN   \n",
              "1           NaN           NaN       2243.0        14.29   \n",
              "2           NaN           NaN       1941.0        17.86   \n",
              "3           NaN           NaN       2540.0         3.57   \n",
              "4           NaN           NaN       1552.0          NaN   \n",
              "\n",
              "   nutrition-score-fr_100g  \n",
              "0                      NaN  \n",
              "1                     14.0  \n",
              "2                      0.0  \n",
              "3                     12.0  \n",
              "4                      NaN  "
            ]
          },
          "execution_count": 326,
          "metadata": {},
          "output_type": "execute_result"
        }
      ],
      "source": [
        "df.head()"
      ]
    },
    {
      "cell_type": "code",
      "execution_count": 327,
      "metadata": {
        "colab": {
          "base_uri": "https://localhost:8080/"
        },
        "id": "iDUjquagy983",
        "outputId": "42a78e0a-770f-49a1-b8a7-38a91fe335fa"
      },
      "outputs": [
        {
          "data": {
            "text/plain": [
              "0         en:FR\n",
              "1            US\n",
              "2            US\n",
              "3            US\n",
              "4            US\n",
              "          ...  \n",
              "320767    en:RO\n",
              "320768       US\n",
              "320769    China\n",
              "320770    en:FR\n",
              "320771       US\n",
              "Name: countries, Length: 320772, dtype: object"
            ]
          },
          "execution_count": 327,
          "metadata": {},
          "output_type": "execute_result"
        }
      ],
      "source": [
        "df.columns\n",
        "df[\"countries\"]"
      ]
    },
    {
      "cell_type": "code",
      "execution_count": 328,
      "metadata": {
        "colab": {
          "base_uri": "https://localhost:8080/"
        },
        "id": "9QndC3ZxdioI",
        "outputId": "bef0af20-1544-4aa4-fbe8-5c432056f823"
      },
      "outputs": [
        {
          "data": {
            "text/plain": [
              "array(['en:FR', 'US', 'en:GB', ..., 'Malaysia', 'Malaisie',\n",
              "       'Hong Kong,China'], shape=(1337,), dtype=object)"
            ]
          },
          "execution_count": 328,
          "metadata": {},
          "output_type": "execute_result"
        }
      ],
      "source": [
        "# Liste des valeurs à remplacer\n",
        "valeurs_a_remplacer = [\n",
        "    \"france\",\n",
        "    \"en:france\",\n",
        "    \"França\",\n",
        "    \"Frankreich\",\n",
        "    \"Francia\",\n",
        "    \"France\",\n",
        "    \"Franciaország\",\n",
        "    \"Frankrijk\",\n",
        "    \"en:french-polynesia\",\n",
        "    \"France,United Kingdom\",\n",
        "    \"France, Suisse\",\n",
        "    \"France,États-Unis\",\n",
        "    \"France,Belgique,Royaume-Uni,Pays-Bas\",\n",
        "    \"France,Royaume-Uni\",\n",
        "    \"France,Saint Pierre and Miquelon\",\n",
        "    \"Belgique,France,États-Unis\",\n",
        "    \"France,Belgium\",\n",
        "    \"Dinamarca,França,Itália,Países Baixos,Polónia,Portugal,Espanha\",\n",
        "    \"Frankreich,Deutschland\",\n",
        "    \"France,Allemagne,Espagne\",\n",
        "    \"France,Portugal\",\n",
        "    \"France,Portugal,Espagne\",\n",
        "    \"France,Germany\",\n",
        "    \"Francia,España\",\n",
        "    \"Pays-Bas,France\",\n",
        "    \"Belgique,France\",\n",
        "    \"France, en:denmark, en:switzerland, en:belgium\",\n",
        "    \"France, en:belgium, en:switzerland, en:reunion\",\n",
        "    \"Belgique,France,Polynésie française,Martinique,Suisse\",\n",
        "    \"Austria,France,Germany,Italy,Netherlands,Switzerland\",\n",
        "    \"Saint-Pierre-et-Miquelon\",\n",
        "    \"Dánia,Franciaország,Portugália,Spanyolország,Nagy-Britannia,Magyarország, en:switzerland\",\n",
        "    \"Dánia,Franciaország,Németország,Portugália,Spanyolország,Nagy-Britannia,Magyarország, en:switzerland, en:belgium\",\n",
        "    \"Frankreich,Deutschland,Mauritius,Espagne,Royaume-Uni\",\n",
        "    \"France,Suisse\",\n",
        "    \"France, en:reunion\",\n",
        "    \"France,Switzerland\",\n",
        "    \"La Réunion\",\n",
        "    \"Frankrijk\",\n",
        "    \"Belgique,France,Suisse\",\n",
        "    \"España, en:france\",\n",
        "    \"France, en:switzerland\",\n",
        "    \"France, en:belgium\",\n",
        "    \"France, en:belgium, Suisse\",\n",
        "    \"Guyane\",\n",
        "    \"Belgique, en:france\",\n",
        "    \"Francia, España\",\n",
        "    \"France, en:switzerland, en:belgium\",\n",
        "    \"Guyane, France\",\n",
        "    \"France,Spain\",\n",
        "    \"France,Guadeloupe\",\n",
        "    \"La Réunion, France\",\n",
        "    \"France,La Réunion\",\n",
        "    \"France,Belgique,Pays-Bas,Royaume-Uni\",\n",
        "    \"Belgium,France\",\n",
        "    \"France,Belgique\",\n",
        "    \"France, en:denmark\",\n",
        "    \"France,Espagne, en:french-polynesia\",\n",
        "    \"France,Russie, Suisse\",\n",
        "    \"Belgium, en:france\",\n",
        "    \"France,Serbie\",\n",
        "    \"France,belgique\",\n",
        "    \"Belgique,France,Luxembourg\",\n",
        "    \"Belgique,France,Maroc,Suisse\",\n",
        "    \"Belgium,Denmark,France,Poland\",\n",
        "    \"France,Guadeloupe,Suisse\",\n",
        "    \"Danemark,France,Suisse,Royaume-Uni\",\n",
        "    \"Suisse, en:france\",\n",
        "    \"France,Andorre\",\n",
        "    \"France, en:belgium\",\n",
        "    \"Belgium,France,Netherlands\",\n",
        "    \"Deutschland, en:france\",\n",
        "    \"Belgique,France, Suisse\",\n",
        "    \"France, US\",\n",
        "    \"Brésil,France\",\n",
        "    \"Algérie,France\",\n",
        "    \"Francia,Portugal,España\",\n",
        "    \"França,Portugal,Espanha\",\n",
        "    \"Guadeloupe\",\n",
        "    \"France,Pays-Bas\",\n",
        "    \"UK,France\",\n",
        "    \"United States, en:france\",\n",
        "    \"France,Allemagne\",\n",
        "    \"France,Espagne\",\n",
        "    \"France, en:belgium, en:switzerland, en:morocco\",\n",
        "    'en:HK, en:france'\n",
        "]\n",
        "remplacements = {\n",
        "    \"Austria,Germany\": \"Australia\", \n",
        "    \"Australia,United Kingdom,United States\": \"Australia\",\n",
        "    \"Australia,Malaysia\": \"Australia\",\n",
        "}\n",
        "valeurs_a_modifier = [\"United Kingdom, Suisse\", \"Suisse\"]\n",
        "valeurs_a_changer = [\n",
        "    \"Deutschland\",\n",
        "    \"Germany,Portugal,Spain\",\n",
        "    \"Germany,Spain\",\n",
        "    \"Deutschland,Schweiz\",\n",
        "    \"Deutschland,Vereinigtes Königreich\",\n",
        "]\n",
        "valeurs_a_alterner = [\n",
        "    \"España\",\n",
        "    \"España,Reino Unido\",\n",
        "    \"Espagne\",\n",
        "    \"España,Suiza\",\n",
        "    \"Portugal,Espanha\",\n",
        "]\n",
        "df[\"countries\"] = df[\"countries\"].replace(\"Belgique\", \"Belgium\")\n",
        "df[\"countries\"] = df[\"countries\"].replace(\"România\", \"Romania\")\n",
        "\n",
        "\n",
        "# Remplacer les valeurs dans la colonne 'countries'\n",
        "\n",
        "df[\"countries\"] = df[\"countries\"].replace(valeurs_a_remplacer, \"en:FR\")\n",
        "df[\"countries\"] = df[\"countries\"].replace(valeurs_a_changer, \"Germany\")\n",
        "df[\"countries\"] = df[\"countries\"].replace(valeurs_a_modifier, \"Switzerland\")\n",
        "df[\"countries\"] = df[\"countries\"].replace(valeurs_a_alterner, \"Spain\")\n",
        "df[\"countries\"] = df[\"countries\"].replace(remplacements)\n",
        "df[\"countries\"].unique()"
      ]
    },
    {
      "cell_type": "code",
      "execution_count": 329,
      "metadata": {
        "colab": {
          "base_uri": "https://localhost:8080/"
        },
        "id": "e4UVA2Dr0CPg",
        "outputId": "30c737f5-0ba7-4710-ad4a-29f140c635b8"
      },
      "outputs": [
        {
          "data": {
            "text/plain": [
              "(320772, 9)"
            ]
          },
          "execution_count": 329,
          "metadata": {},
          "output_type": "execute_result"
        }
      ],
      "source": [
        "df.shape"
      ]
    },
    {
      "cell_type": "code",
      "execution_count": 330,
      "metadata": {
        "colab": {
          "base_uri": "https://localhost:8080/",
          "height": 600
        },
        "id": "XEZGdEofucLD",
        "outputId": "994c13d6-2e33-4595-8106-c6e0cf6f7f05"
      },
      "outputs": [
        {
          "data": {
            "text/html": [
              "<div>\n",
              "<style scoped>\n",
              "    .dataframe tbody tr th:only-of-type {\n",
              "        vertical-align: middle;\n",
              "    }\n",
              "\n",
              "    .dataframe tbody tr th {\n",
              "        vertical-align: top;\n",
              "    }\n",
              "\n",
              "    .dataframe thead th {\n",
              "        text-align: right;\n",
              "    }\n",
              "</style>\n",
              "<table border=\"1\" class=\"dataframe\">\n",
              "  <thead>\n",
              "    <tr style=\"text-align: right;\">\n",
              "      <th></th>\n",
              "      <th>code</th>\n",
              "      <th>product_name</th>\n",
              "      <th>countries</th>\n",
              "      <th>nutrition_grade_fr</th>\n",
              "      <th>pnns_groups_1</th>\n",
              "      <th>pnns_groups_2</th>\n",
              "      <th>energy_100g</th>\n",
              "      <th>sugars_100g</th>\n",
              "      <th>nutrition-score-fr_100g</th>\n",
              "    </tr>\n",
              "  </thead>\n",
              "  <tbody>\n",
              "    <tr>\n",
              "      <th>556</th>\n",
              "      <td>30908</td>\n",
              "      <td>NaN</td>\n",
              "      <td>NaN</td>\n",
              "      <td>NaN</td>\n",
              "      <td>unknown</td>\n",
              "      <td>unknown</td>\n",
              "      <td>NaN</td>\n",
              "      <td>NaN</td>\n",
              "      <td>NaN</td>\n",
              "    </tr>\n",
              "    <tr>\n",
              "      <th>10626</th>\n",
              "      <td>13000001243</td>\n",
              "      <td>Ketchup Heinze</td>\n",
              "      <td>NaN</td>\n",
              "      <td>NaN</td>\n",
              "      <td>Fat and sauces</td>\n",
              "      <td>Dressings and sauces</td>\n",
              "      <td>NaN</td>\n",
              "      <td>NaN</td>\n",
              "      <td>NaN</td>\n",
              "    </tr>\n",
              "    <tr>\n",
              "      <th>12973</th>\n",
              "      <td>16000122505</td>\n",
              "      <td>Traditional Chex Mix</td>\n",
              "      <td>NaN</td>\n",
              "      <td>NaN</td>\n",
              "      <td>unknown</td>\n",
              "      <td>unknown</td>\n",
              "      <td>NaN</td>\n",
              "      <td>NaN</td>\n",
              "      <td>NaN</td>\n",
              "    </tr>\n",
              "    <tr>\n",
              "      <th>14313</th>\n",
              "      <td>18627740001</td>\n",
              "      <td>Go Lean Cereals</td>\n",
              "      <td>NaN</td>\n",
              "      <td>a</td>\n",
              "      <td>unknown</td>\n",
              "      <td>unknown</td>\n",
              "      <td>1130.0</td>\n",
              "      <td>11.5</td>\n",
              "      <td>-4.0</td>\n",
              "    </tr>\n",
              "    <tr>\n",
              "      <th>25068</th>\n",
              "      <td>30000015520</td>\n",
              "      <td>Instant Oatmeal Regular</td>\n",
              "      <td>NaN</td>\n",
              "      <td>NaN</td>\n",
              "      <td>NaN</td>\n",
              "      <td>NaN</td>\n",
              "      <td>NaN</td>\n",
              "      <td>NaN</td>\n",
              "      <td>NaN</td>\n",
              "    </tr>\n",
              "    <tr>\n",
              "      <th>...</th>\n",
              "      <td>...</td>\n",
              "      <td>...</td>\n",
              "      <td>...</td>\n",
              "      <td>...</td>\n",
              "      <td>...</td>\n",
              "      <td>...</td>\n",
              "      <td>...</td>\n",
              "      <td>...</td>\n",
              "      <td>...</td>\n",
              "    </tr>\n",
              "    <tr>\n",
              "      <th>320240</th>\n",
              "      <td>9346321000055</td>\n",
              "      <td>NaN</td>\n",
              "      <td>NaN</td>\n",
              "      <td>NaN</td>\n",
              "      <td>NaN</td>\n",
              "      <td>NaN</td>\n",
              "      <td>NaN</td>\n",
              "      <td>NaN</td>\n",
              "      <td>NaN</td>\n",
              "    </tr>\n",
              "    <tr>\n",
              "      <th>320276</th>\n",
              "      <td>935</td>\n",
              "      <td>poire montpelliéraine</td>\n",
              "      <td>NaN</td>\n",
              "      <td>NaN</td>\n",
              "      <td>unknown</td>\n",
              "      <td>unknown</td>\n",
              "      <td>NaN</td>\n",
              "      <td>NaN</td>\n",
              "      <td>NaN</td>\n",
              "    </tr>\n",
              "    <tr>\n",
              "      <th>320346</th>\n",
              "      <td>9400556004957</td>\n",
              "      <td>NaN</td>\n",
              "      <td>NaN</td>\n",
              "      <td>NaN</td>\n",
              "      <td>NaN</td>\n",
              "      <td>NaN</td>\n",
              "      <td>NaN</td>\n",
              "      <td>NaN</td>\n",
              "      <td>NaN</td>\n",
              "    </tr>\n",
              "    <tr>\n",
              "      <th>320526</th>\n",
              "      <td>9550645107219</td>\n",
              "      <td>NaN</td>\n",
              "      <td>NaN</td>\n",
              "      <td>NaN</td>\n",
              "      <td>NaN</td>\n",
              "      <td>NaN</td>\n",
              "      <td>NaN</td>\n",
              "      <td>NaN</td>\n",
              "      <td>NaN</td>\n",
              "    </tr>\n",
              "    <tr>\n",
              "      <th>320753</th>\n",
              "      <td>9871311007</td>\n",
              "      <td>Lager</td>\n",
              "      <td>NaN</td>\n",
              "      <td>NaN</td>\n",
              "      <td>NaN</td>\n",
              "      <td>Alcoholic beverages</td>\n",
              "      <td>NaN</td>\n",
              "      <td>NaN</td>\n",
              "      <td>NaN</td>\n",
              "    </tr>\n",
              "  </tbody>\n",
              "</table>\n",
              "<p>280 rows × 9 columns</p>\n",
              "</div>"
            ],
            "text/plain": [
              "                 code              product_name countries nutrition_grade_fr  \\\n",
              "556             30908                       NaN       NaN                NaN   \n",
              "10626     13000001243            Ketchup Heinze       NaN                NaN   \n",
              "12973     16000122505      Traditional Chex Mix       NaN                NaN   \n",
              "14313     18627740001           Go Lean Cereals       NaN                  a   \n",
              "25068     30000015520  Instant Oatmeal Regular        NaN                NaN   \n",
              "...               ...                       ...       ...                ...   \n",
              "320240  9346321000055                       NaN       NaN                NaN   \n",
              "320276            935     poire montpelliéraine       NaN                NaN   \n",
              "320346  9400556004957                       NaN       NaN                NaN   \n",
              "320526  9550645107219                       NaN       NaN                NaN   \n",
              "320753     9871311007                     Lager       NaN                NaN   \n",
              "\n",
              "         pnns_groups_1         pnns_groups_2  energy_100g  sugars_100g  \\\n",
              "556            unknown               unknown          NaN          NaN   \n",
              "10626   Fat and sauces  Dressings and sauces          NaN          NaN   \n",
              "12973          unknown               unknown          NaN          NaN   \n",
              "14313          unknown               unknown       1130.0         11.5   \n",
              "25068              NaN                   NaN          NaN          NaN   \n",
              "...                ...                   ...          ...          ...   \n",
              "320240             NaN                   NaN          NaN          NaN   \n",
              "320276         unknown               unknown          NaN          NaN   \n",
              "320346             NaN                   NaN          NaN          NaN   \n",
              "320526             NaN                   NaN          NaN          NaN   \n",
              "320753             NaN   Alcoholic beverages          NaN          NaN   \n",
              "\n",
              "        nutrition-score-fr_100g  \n",
              "556                         NaN  \n",
              "10626                       NaN  \n",
              "12973                       NaN  \n",
              "14313                      -4.0  \n",
              "25068                       NaN  \n",
              "...                         ...  \n",
              "320240                      NaN  \n",
              "320276                      NaN  \n",
              "320346                      NaN  \n",
              "320526                      NaN  \n",
              "320753                      NaN  \n",
              "\n",
              "[280 rows x 9 columns]"
            ]
          },
          "execution_count": 330,
          "metadata": {},
          "output_type": "execute_result"
        }
      ],
      "source": [
        "df[df[\"countries\"].isnull()]"
      ]
    },
    {
      "cell_type": "code",
      "execution_count": 331,
      "metadata": {
        "colab": {
          "base_uri": "https://localhost:8080/"
        },
        "id": "YcbjB10MuJZ5",
        "outputId": "f8b8db5a-01a1-4413-eca4-4587f2f771d0"
      },
      "outputs": [
        {
          "data": {
            "text/plain": [
              "array(['en:FR', 'US', 'en:GB', ..., 'Malaysia', 'Malaisie',\n",
              "       'Hong Kong,China'], shape=(1336,), dtype=object)"
            ]
          },
          "execution_count": 331,
          "metadata": {},
          "output_type": "execute_result"
        }
      ],
      "source": [
        "df[\"countries\"] = df[\"countries\"].fillna(\"en:FR\")\n",
        "df[\"countries\"].unique()"
      ]
    },
    {
      "cell_type": "code",
      "execution_count": 332,
      "metadata": {
        "colab": {
          "base_uri": "https://localhost:8080/"
        },
        "id": "IlV-LmgDoxn4",
        "outputId": "aae3ce54-a61d-4764-9798-1165d88a8673"
      },
      "outputs": [
        {
          "data": {
            "text/html": [
              "<div>\n",
              "<style scoped>\n",
              "    .dataframe tbody tr th:only-of-type {\n",
              "        vertical-align: middle;\n",
              "    }\n",
              "\n",
              "    .dataframe tbody tr th {\n",
              "        vertical-align: top;\n",
              "    }\n",
              "\n",
              "    .dataframe thead th {\n",
              "        text-align: right;\n",
              "    }\n",
              "</style>\n",
              "<table border=\"1\" class=\"dataframe\">\n",
              "  <thead>\n",
              "    <tr style=\"text-align: right;\">\n",
              "      <th></th>\n",
              "      <th>code</th>\n",
              "      <th>product_name</th>\n",
              "      <th>countries</th>\n",
              "      <th>nutrition_grade_fr</th>\n",
              "      <th>pnns_groups_1</th>\n",
              "      <th>pnns_groups_2</th>\n",
              "      <th>energy_100g</th>\n",
              "      <th>sugars_100g</th>\n",
              "      <th>nutrition-score-fr_100g</th>\n",
              "    </tr>\n",
              "  </thead>\n",
              "  <tbody>\n",
              "    <tr>\n",
              "      <th>0</th>\n",
              "      <td>3087</td>\n",
              "      <td>Farine de blé noir</td>\n",
              "      <td>en:FR</td>\n",
              "      <td>NaN</td>\n",
              "      <td>NaN</td>\n",
              "      <td>NaN</td>\n",
              "      <td>NaN</td>\n",
              "      <td>NaN</td>\n",
              "      <td>NaN</td>\n",
              "    </tr>\n",
              "    <tr>\n",
              "      <th>46</th>\n",
              "      <td>24600</td>\n",
              "      <td>Filet de bœuf</td>\n",
              "      <td>en:FR</td>\n",
              "      <td>NaN</td>\n",
              "      <td>unknown</td>\n",
              "      <td>unknown</td>\n",
              "      <td>NaN</td>\n",
              "      <td>NaN</td>\n",
              "      <td>NaN</td>\n",
              "    </tr>\n",
              "    <tr>\n",
              "      <th>48</th>\n",
              "      <td>27205</td>\n",
              "      <td>NaN</td>\n",
              "      <td>en:FR</td>\n",
              "      <td>NaN</td>\n",
              "      <td>NaN</td>\n",
              "      <td>NaN</td>\n",
              "      <td>NaN</td>\n",
              "      <td>NaN</td>\n",
              "      <td>NaN</td>\n",
              "    </tr>\n",
              "    <tr>\n",
              "      <th>106</th>\n",
              "      <td>36252</td>\n",
              "      <td>Lion Peanut x2</td>\n",
              "      <td>en:FR</td>\n",
              "      <td>e</td>\n",
              "      <td>unknown</td>\n",
              "      <td>unknown</td>\n",
              "      <td>1883.0</td>\n",
              "      <td>57.5</td>\n",
              "      <td>22.0</td>\n",
              "    </tr>\n",
              "    <tr>\n",
              "      <th>136</th>\n",
              "      <td>39259</td>\n",
              "      <td>Twix x2</td>\n",
              "      <td>en:FR</td>\n",
              "      <td>NaN</td>\n",
              "      <td>unknown</td>\n",
              "      <td>unknown</td>\n",
              "      <td>NaN</td>\n",
              "      <td>NaN</td>\n",
              "      <td>NaN</td>\n",
              "    </tr>\n",
              "  </tbody>\n",
              "</table>\n",
              "</div>"
            ],
            "text/plain": [
              "      code        product_name countries nutrition_grade_fr pnns_groups_1  \\\n",
              "0     3087  Farine de blé noir     en:FR                NaN           NaN   \n",
              "46   24600       Filet de bœuf     en:FR                NaN       unknown   \n",
              "48   27205                 NaN     en:FR                NaN           NaN   \n",
              "106  36252      Lion Peanut x2     en:FR                  e       unknown   \n",
              "136  39259             Twix x2     en:FR                NaN       unknown   \n",
              "\n",
              "    pnns_groups_2  energy_100g  sugars_100g  nutrition-score-fr_100g  \n",
              "0             NaN          NaN          NaN                      NaN  \n",
              "46        unknown          NaN          NaN                      NaN  \n",
              "48            NaN          NaN          NaN                      NaN  \n",
              "106       unknown       1883.0         57.5                     22.0  \n",
              "136       unknown          NaN          NaN                      NaN  "
            ]
          },
          "execution_count": 332,
          "metadata": {},
          "output_type": "execute_result"
        }
      ],
      "source": [
        "# Liste des pays à conserver\n",
        "pays_a_conserver = [\n",
        "    \"Austria\",\n",
        "    \"Belgium\",\n",
        "    \"Germany\",\n",
        "    \"Hungary\",\n",
        "    \"Italy\",\n",
        "    \"en:FR\",\n",
        "    \"Nederlands\",\n",
        "    \"Portugal\",\n",
        "    \"Romania\",\n",
        "    \"Spain\",\n",
        "]\n",
        "\n",
        "# Sélectionner les index des lignes à supprimer (celles qui ne sont pas dans la liste)\n",
        "# index_a_supprimer = df[~df[\"countries\"].isin(pays_a_conserver)].index\n",
        "\n",
        "# Supprimer les lignes du DataFrame\n",
        "# df.drop(index_a_supprimer, inplace=True)\n",
        "\n",
        "# Afficher les valeurs uniques de la colonne 'countries'\n",
        "# df[\"countries\"].unique()\n",
        "df = df[df['countries'].isin(pays_a_conserver)].copy()\n",
        "df.head()"
      ]
    },
    {
      "cell_type": "code",
      "execution_count": 333,
      "metadata": {},
      "outputs": [
        {
          "data": {
            "text/plain": [
              "(109723, 9)"
            ]
          },
          "execution_count": 333,
          "metadata": {},
          "output_type": "execute_result"
        }
      ],
      "source": [
        "df.shape"
      ]
    },
    {
      "cell_type": "code",
      "execution_count": 334,
      "metadata": {},
      "outputs": [
        {
          "data": {
            "text/plain": [
              "array(['en:FR', 'Germany', 'Spain', 'Belgium', 'Italy', 'Portugal',\n",
              "       'Romania', 'Austria', 'Hungary'], dtype=object)"
            ]
          },
          "execution_count": 334,
          "metadata": {},
          "output_type": "execute_result"
        }
      ],
      "source": [
        "df['countries'].unique()"
      ]
    },
    {
      "cell_type": "code",
      "execution_count": 335,
      "metadata": {
        "colab": {
          "base_uri": "https://localhost:8080/"
        },
        "id": "Ad41P1rmPMdg",
        "outputId": "19efc80e-b5a7-4481-ab1f-0edc034f42d1"
      },
      "outputs": [
        {
          "data": {
            "text/plain": [
              "array([3087, 24600, 27205, ..., '9918', '9935010000003', '9980282863788'],\n",
              "      shape=(109717,), dtype=object)"
            ]
          },
          "execution_count": 335,
          "metadata": {},
          "output_type": "execute_result"
        }
      ],
      "source": [
        "df[\"code\"].unique()"
      ]
    },
    {
      "cell_type": "code",
      "execution_count": 336,
      "metadata": {},
      "outputs": [],
      "source": [
        "df.drop_duplicates(subset=['code'], keep='first', inplace=True)"
      ]
    },
    {
      "cell_type": "code",
      "execution_count": 337,
      "metadata": {},
      "outputs": [
        {
          "name": "stdout",
          "output_type": "stream",
          "text": [
            "Series([], Name: count, dtype: int64)\n"
          ]
        }
      ],
      "source": [
        "colonne = 'code'  # Remplacez par le nom de votre colonne\n",
        "doublons_masque = df.duplicated(subset=[colonne], keep=False)\n",
        "lignes_en_double = df[doublons_masque]\n",
        "nombre_doublons = lignes_en_double[colonne].value_counts()\n",
        "print(nombre_doublons)"
      ]
    },
    {
      "cell_type": "code",
      "execution_count": 338,
      "metadata": {},
      "outputs": [
        {
          "name": "stdout",
          "output_type": "stream",
          "text": [
            "Il n'y a pas de valeurs NaN dans la colonne 'code'.\n"
          ]
        }
      ],
      "source": [
        "# Je verifie que les valeurs NaN sont bien remplacées par des valeurs \n",
        "if df['code'].isna().any():\n",
        "    print(\"Il y a des valeurs NaN dans la colonne 'code'.\")\n",
        "else:\n",
        "    print(\"Il n'y a pas de valeurs NaN dans la colonne 'code'.\")"
      ]
    },
    {
      "cell_type": "code",
      "execution_count": 339,
      "metadata": {},
      "outputs": [
        {
          "name": "stdout",
          "output_type": "stream",
          "text": [
            "0\n"
          ]
        }
      ],
      "source": [
        "# Supprimer les lignes où product_name est NaN\n",
        "df = df.dropna(subset=['product_name'])\n",
        "\n",
        "# Vérifier que c'est bien fait\n",
        "print(df['product_name'].isna().sum())  # Devrait afficher 0\n"
      ]
    },
    {
      "cell_type": "code",
      "execution_count": 340,
      "metadata": {},
      "outputs": [
        {
          "data": {
            "text/plain": [
              "(102092, 9)"
            ]
          },
          "execution_count": 340,
          "metadata": {},
          "output_type": "execute_result"
        }
      ],
      "source": [
        "df.shape"
      ]
    },
    {
      "cell_type": "code",
      "execution_count": 341,
      "metadata": {},
      "outputs": [],
      "source": [
        "df[['pnns_groups_1', 'pnns_groups_2']] = df[['pnns_groups_1', 'pnns_groups_2']].fillna('unknown')\n"
      ]
    },
    {
      "cell_type": "code",
      "execution_count": 342,
      "metadata": {
        "colab": {
          "base_uri": "https://localhost:8080/"
        },
        "id": "yz4ynBi3PO1C",
        "outputId": "cecbab07-cc8f-4472-fea3-19b81a5993ef"
      },
      "outputs": [
        {
          "data": {
            "text/plain": [
              "array(['unknown', 'Cereals and potatoes', 'Sugary snacks', 'Beverages',\n",
              "       'Fat and sauces', 'Fish Meat Eggs', 'Composite foods',\n",
              "       'Fruits and vegetables', 'Milk and dairy products', 'Salty snacks',\n",
              "       'fruits-and-vegetables', 'sugary-snacks', 'cereals-and-potatoes',\n",
              "       'salty-snacks'], dtype=object)"
            ]
          },
          "execution_count": 342,
          "metadata": {},
          "output_type": "execute_result"
        }
      ],
      "source": [
        "df[\"pnns_groups_1\"].unique()"
      ]
    },
    {
      "cell_type": "code",
      "execution_count": 343,
      "metadata": {
        "colab": {
          "base_uri": "https://localhost:8080/"
        },
        "id": "xPrDWEXWPQyw",
        "outputId": "a9286d13-da76-4c6f-aa6c-4d2451bd8c39"
      },
      "outputs": [
        {
          "data": {
            "text/plain": [
              "array(['unknown', 'Legumes', 'Biscuits and cakes',\n",
              "       'Non-sugared beverages', 'Sweets', 'Sweetened beverages',\n",
              "       'Dressings and sauces', 'Meat', 'One-dish meals', 'Soups',\n",
              "       'Chocolate products', 'Cheese', 'Sandwich', 'Appetizers',\n",
              "       'Dried fruits', 'Nuts', 'Pizza pies and quiche', 'Fruits',\n",
              "       'Fruit juices', 'Fats', 'Alcoholic beverages', 'Cereals',\n",
              "       'Vegetables', 'Bread', 'Breakfast cereals', 'Processed meat',\n",
              "       'vegetables', 'Ice cream', 'pastries', 'Milk and yogurt',\n",
              "       'Dairy desserts', 'Fish and seafood', 'Tripe dishes',\n",
              "       'Artificially sweetened beverages', 'Fruit nectars', 'Eggs',\n",
              "       'Potatoes', 'fruits', 'Salty and fatty products', 'cereals',\n",
              "       'legumes', 'nuts'], dtype=object)"
            ]
          },
          "execution_count": 343,
          "metadata": {},
          "output_type": "execute_result"
        }
      ],
      "source": [
        "df[\"pnns_groups_2\"].unique()"
      ]
    },
    {
      "cell_type": "code",
      "execution_count": 344,
      "metadata": {},
      "outputs": [
        {
          "name": "stdout",
          "output_type": "stream",
          "text": [
            "      code        product_name countries nutrition_grade_fr pnns_groups_1  \\\n",
            "0     3087  Farine de blé noir     en:FR                NaN       unknown   \n",
            "46   24600       Filet de bœuf     en:FR                NaN       unknown   \n",
            "106  36252      Lion Peanut x2     en:FR                  e       unknown   \n",
            "136  39259             Twix x2     en:FR                NaN       unknown   \n",
            "138  39529      Pack de 2 Twix     en:FR                NaN       unknown   \n",
            "\n",
            "    pnns_groups_2  energy_100g  sugars_100g  nutrition-score-fr_100g  \n",
            "0         unknown          NaN          NaN                      NaN  \n",
            "46        unknown          NaN          NaN                      NaN  \n",
            "106       unknown       1883.0         57.5                     22.0  \n",
            "136       unknown          NaN          NaN                      NaN  \n",
            "138       unknown       1481.0          NaN                      NaN  \n"
          ]
        }
      ],
      "source": [
        "\n",
        "\n",
        "# Liste des groupes susceptibles de contenir du sucre\n",
        "groupes_avec_sucre = [\n",
        "    'Sweets', \n",
        "    'Sweetened beverages', \n",
        "    'Biscuits and cakes', \n",
        "    'Fruit juices',\n",
        "    'Chocolate products',\n",
        "    'Breakfast cereals',\n",
        "    'Dairy desserts',\n",
        "    'Ice cream',\n",
        "    'Pastries',\n",
        "    'Fruit nectars',\n",
        "    'Sodas',\n",
        "    'unknown'\n",
        "    \n",
        "      # au cas où tu en aurais un avec ce nom\n",
        "]\n",
        "\n",
        "# Filtrage des lignes où pnns_groups_2 est dans cette liste\n",
        "produits_sucres = df[df['pnns_groups_2'].isin(groupes_avec_sucre)]\n",
        "\n",
        "# Affichage ou export\n",
        "print(produits_sucres.head())\n",
        "\n"
      ]
    },
    {
      "cell_type": "code",
      "execution_count": 345,
      "metadata": {},
      "outputs": [
        {
          "data": {
            "text/plain": [
              "(56698, 9)"
            ]
          },
          "execution_count": 345,
          "metadata": {},
          "output_type": "execute_result"
        }
      ],
      "source": [
        "df = df[df['pnns_groups_2'].isin(groupes_avec_sucre)].copy()\n",
        "df.shape"
      ]
    },
    {
      "cell_type": "code",
      "execution_count": 346,
      "metadata": {},
      "outputs": [
        {
          "name": "stdout",
          "output_type": "stream",
          "text": [
            "           product_name pnns_groups_1\n",
            "0    Farine de blé noir       unknown\n",
            "46        Filet de bœuf       unknown\n",
            "106      Lion Peanut x2       unknown\n",
            "136             Twix x2       unknown\n",
            "138      Pack de 2 Twix       unknown\n"
          ]
        }
      ],
      "source": [
        "groupes_sucres = [\n",
        "    'Sugary snacks',\n",
        "    'Beverages',\n",
        "    'Milk and dairy products',\n",
        "    'sugary-snacks',\n",
        "    'unknown'\n",
        "    \n",
        "]\n",
        "\n",
        "# Filtrer les produits dont pnns_groups_1 est dans cette liste\n",
        "df[df['pnns_groups_1'].isin(groupes_sucres)]\n",
        "\n",
        "# Affichage du résultat\n",
        "print(df[['product_name', 'pnns_groups_1']].head())\n"
      ]
    },
    {
      "cell_type": "code",
      "execution_count": 347,
      "metadata": {},
      "outputs": [
        {
          "data": {
            "text/plain": [
              "(56698, 9)"
            ]
          },
          "execution_count": 347,
          "metadata": {},
          "output_type": "execute_result"
        }
      ],
      "source": [
        "df.shape"
      ]
    },
    {
      "cell_type": "code",
      "execution_count": 348,
      "metadata": {},
      "outputs": [
        {
          "name": "stdout",
          "output_type": "stream",
          "text": [
            "<class 'pandas.core.frame.DataFrame'>\n",
            "Index: 56698 entries, 0 to 320770\n",
            "Data columns (total 9 columns):\n",
            " #   Column                   Non-Null Count  Dtype  \n",
            "---  ------                   --------------  -----  \n",
            " 0   code                     56698 non-null  object \n",
            " 1   product_name             56698 non-null  object \n",
            " 2   countries                56698 non-null  object \n",
            " 3   nutrition_grade_fr       36283 non-null  object \n",
            " 4   pnns_groups_1            56698 non-null  object \n",
            " 5   pnns_groups_2            56698 non-null  object \n",
            " 6   energy_100g              37854 non-null  float64\n",
            " 7   sugars_100g              36969 non-null  float64\n",
            " 8   nutrition-score-fr_100g  36283 non-null  float64\n",
            "dtypes: float64(3), object(6)\n",
            "memory usage: 4.3+ MB\n"
          ]
        }
      ],
      "source": [
        "df.info()\n"
      ]
    },
    {
      "cell_type": "code",
      "execution_count": 349,
      "metadata": {
        "colab": {
          "base_uri": "https://localhost:8080/"
        },
        "id": "LtTqn69KPQKv",
        "outputId": "afa41f72-a30b-442b-d9d2-1f908001b43b"
      },
      "outputs": [
        {
          "data": {
            "text/plain": [
              "array([  nan, 1883., 1481., ..., 2517., 5925., 4602.], shape=(3077,))"
            ]
          },
          "execution_count": 349,
          "metadata": {},
          "output_type": "execute_result"
        }
      ],
      "source": [
        "df[\"energy_100g\"].unique()"
      ]
    },
    {
      "cell_type": "code",
      "execution_count": 350,
      "metadata": {
        "colab": {
          "base_uri": "https://localhost:8080/"
        },
        "id": "-TrWfE-8POHW",
        "outputId": "69249403-a135-4e5a-8d4f-82f6d9f6c269"
      },
      "outputs": [
        {
          "data": {
            "text/plain": [
              "array([  nan, 57.5 , 87.7 , ..., 14.52,  1.96,  3.89], shape=(1311,))"
            ]
          },
          "execution_count": 350,
          "metadata": {},
          "output_type": "execute_result"
        }
      ],
      "source": [
        "df[\"sugars_100g\"].unique()"
      ]
    },
    {
      "cell_type": "code",
      "execution_count": 351,
      "metadata": {
        "colab": {
          "base_uri": "https://localhost:8080/"
        },
        "id": "psQsQhjuPrby",
        "outputId": "ff724865-902f-46e0-9351-c9660df7f736"
      },
      "outputs": [
        {
          "data": {
            "text/plain": [
              "array([ nan,  22.,  14.,  26.,  13.,  15.,  12.,   6.,  18.,  20.,   1.,\n",
              "        11.,  19.,   4.,   2.,   7.,   5.,  -4.,  25.,   3.,  17.,   0.,\n",
              "        16.,  24.,   9.,  21.,  23.,  -2.,  10.,  -1.,  -5.,  -3.,   8.,\n",
              "        -6.,  29.,  35.,  27.,  28.,  36.,  32., -10.,  30.,  -9.,  33.,\n",
              "        31.,  -7.,  34.,  -8.])"
            ]
          },
          "execution_count": 351,
          "metadata": {},
          "output_type": "execute_result"
        }
      ],
      "source": [
        "df[\"nutrition-score-fr_100g\"].unique()"
      ]
    },
    {
      "cell_type": "code",
      "execution_count": 352,
      "metadata": {
        "colab": {
          "base_uri": "https://localhost:8080/"
        },
        "id": "OQp4OQ7ujE1L",
        "outputId": "56f748d8-2962-4c3a-ddbe-53ec51c40202"
      },
      "outputs": [
        {
          "data": {
            "text/plain": [
              "(56698, 9)"
            ]
          },
          "execution_count": 352,
          "metadata": {},
          "output_type": "execute_result"
        }
      ],
      "source": [
        "df.shape"
      ]
    },
    {
      "cell_type": "code",
      "execution_count": 353,
      "metadata": {
        "colab": {
          "base_uri": "https://localhost:8080/"
        },
        "id": "wbRAsEjzoIfW",
        "outputId": "b9bac821-717f-4572-dccb-02035c8a3b32"
      },
      "outputs": [
        {
          "data": {
            "text/plain": [
              "(56698, 9)"
            ]
          },
          "execution_count": 353,
          "metadata": {},
          "output_type": "execute_result"
        }
      ],
      "source": [
        "# Supprimer les lignes qui ne contiennent que les NaN\n",
        "df.dropna(how=\"all\", inplace=True)\n",
        "df.shape"
      ]
    },
    {
      "cell_type": "code",
      "execution_count": 354,
      "metadata": {
        "colab": {
          "base_uri": "https://localhost:8080/"
        },
        "id": "43S1GETwott1",
        "outputId": "b4d9409d-fec9-4eff-e22a-5af6e600681f"
      },
      "outputs": [
        {
          "name": "stdout",
          "output_type": "stream",
          "text": [
            "<class 'pandas.core.frame.DataFrame'>\n",
            "Index: 56698 entries, 0 to 320770\n",
            "Data columns (total 9 columns):\n",
            " #   Column                   Non-Null Count  Dtype  \n",
            "---  ------                   --------------  -----  \n",
            " 0   code                     56698 non-null  object \n",
            " 1   product_name             56698 non-null  object \n",
            " 2   countries                56698 non-null  object \n",
            " 3   nutrition_grade_fr       36283 non-null  object \n",
            " 4   pnns_groups_1            56698 non-null  object \n",
            " 5   pnns_groups_2            56698 non-null  object \n",
            " 6   energy_100g              37854 non-null  float64\n",
            " 7   sugars_100g              36969 non-null  float64\n",
            " 8   nutrition-score-fr_100g  36283 non-null  float64\n",
            "dtypes: float64(3), object(6)\n",
            "memory usage: 4.3+ MB\n"
          ]
        }
      ],
      "source": [
        "df.info()"
      ]
    },
    {
      "cell_type": "markdown",
      "metadata": {
        "id": "Lv2xI5GVo6u1"
      },
      "source": [
        "    2.2 Suppression des données aberrantes\n"
      ]
    },
    {
      "cell_type": "code",
      "execution_count": 355,
      "metadata": {
        "colab": {
          "base_uri": "https://localhost:8080/"
        },
        "id": "TdCLlbFZNidQ",
        "outputId": "04b81f8e-5d0c-447c-9839-5212ccd4110b"
      },
      "outputs": [
        {
          "data": {
            "text/plain": [
              "array(['Farine de blé noir', 'Filet de bœuf', 'Lion Peanut x2', ...,\n",
              "       'Miel de Camargue', 'Cheese cake thé vert, yuzu',\n",
              "       'Tomates aux Vermicelles '], shape=(48774,), dtype=object)"
            ]
          },
          "execution_count": 355,
          "metadata": {},
          "output_type": "execute_result"
        }
      ],
      "source": [
        "df[\"product_name\"].unique()"
      ]
    },
    {
      "cell_type": "code",
      "execution_count": 356,
      "metadata": {
        "colab": {
          "base_uri": "https://localhost:8080/"
        },
        "id": "p61eGfSDsTzH",
        "outputId": "aa52bb22-4144-44f2-9409-22f885b58b0a"
      },
      "outputs": [
        {
          "data": {
            "text/plain": [
              "array([  nan, 57.5 , 87.7 , ..., 14.52,  1.96,  3.89], shape=(1311,))"
            ]
          },
          "execution_count": 356,
          "metadata": {},
          "output_type": "execute_result"
        }
      ],
      "source": [
        "df[\"sugars_100g\"].unique()"
      ]
    },
    {
      "cell_type": "code",
      "execution_count": 357,
      "metadata": {
        "colab": {
          "base_uri": "https://localhost:8080/"
        },
        "id": "WygkHWnNsUpd",
        "outputId": "b619b9ca-79fa-4b18-f4c4-86650c4f8551"
      },
      "outputs": [
        {
          "data": {
            "text/plain": [
              "array([  nan, 1883., 1481., ..., 2517., 5925., 4602.], shape=(3077,))"
            ]
          },
          "execution_count": 357,
          "metadata": {},
          "output_type": "execute_result"
        }
      ],
      "source": [
        "df[\"energy_100g\"].unique()"
      ]
    },
    {
      "cell_type": "code",
      "execution_count": 358,
      "metadata": {
        "colab": {
          "base_uri": "https://localhost:8080/"
        },
        "id": "qUpVwxu0ukRh",
        "outputId": "fd37a7c1-1a3c-4018-f181-f26a6f40fe2b"
      },
      "outputs": [
        {
          "data": {
            "text/plain": [
              "array([nan, 22., 14., 26., 13., 15., 12.,  6., 18., 20.,  1., 11., 19.,\n",
              "        4.,  2.,  7.,  5.,  0., 25.,  3., 17., 16., 24.,  9., 21., 23.,\n",
              "       10.,  8., 29., 35., 27., 28., 36., 32., 30., 33., 31., 34.])"
            ]
          },
          "execution_count": 358,
          "metadata": {},
          "output_type": "execute_result"
        }
      ],
      "source": [
        "# Convertir toutes les valeurs négatives en positives\n",
        "# Pour plusieurs colonnes numériques:\n",
        "colonnes_numeriques = df.select_dtypes(include=[\"number\"]).columns\n",
        "df[colonnes_numeriques] = df[colonnes_numeriques].clip(lower=0)\n",
        "df[\"nutrition-score-fr_100g\"].unique()"
      ]
    },
    {
      "cell_type": "code",
      "execution_count": 359,
      "metadata": {
        "colab": {
          "base_uri": "https://localhost:8080/"
        },
        "id": "IpqsF0S3v2RY",
        "outputId": "fcc4fca5-e65a-4868-cc24-782cb96ab7fc"
      },
      "outputs": [
        {
          "data": {
            "text/plain": [
              "array([  nan, 1883., 1481., ..., 2517., 5925., 4602.], shape=(3077,))"
            ]
          },
          "execution_count": 359,
          "metadata": {},
          "output_type": "execute_result"
        }
      ],
      "source": [
        "df[\"energy_100g\"].unique()"
      ]
    },
    {
      "cell_type": "code",
      "execution_count": 360,
      "metadata": {
        "colab": {
          "base_uri": "https://localhost:8080/"
        },
        "id": "x8BsBoIdv661",
        "outputId": "fdf03133-a691-42d4-d6f4-1c2121e63959"
      },
      "outputs": [
        {
          "data": {
            "text/plain": [
              "array([  nan, 57.5 , 87.7 , ..., 14.52,  1.96,  3.89], shape=(1311,))"
            ]
          },
          "execution_count": 360,
          "metadata": {},
          "output_type": "execute_result"
        }
      ],
      "source": [
        "df[\"sugars_100g\"].unique()"
      ]
    },
    {
      "cell_type": "code",
      "execution_count": 361,
      "metadata": {
        "colab": {
          "base_uri": "https://localhost:8080/",
          "height": 1000
        },
        "id": "cb4oJqxg0kv7",
        "outputId": "f3612110-7941-4952-a4cc-966c315ebc4a"
      },
      "outputs": [
        {
          "name": "stdout",
          "output_type": "stream",
          "text": [
            "Index(['energy_100g', 'sugars_100g', 'nutrition-score-fr_100g'], dtype='object')\n"
          ]
        },
        {
          "data": {
            "image/png": "[encoded data removed]",
            "text/plain": [
              "<Figure size 640x480 with 1 Axes>"
            ]
          },
          "metadata": {},
          "output_type": "display_data"
        },
        {
          "data": {
            "image/png": "[encoded data removed]",
            "text/plain": [
              "<Figure size 640x480 with 1 Axes>"
            ]
          },
          "metadata": {},
          "output_type": "display_data"
        },
        {
          "data": {
            "image/png": "[encoded data removed]",
            "text/plain": [
              "<Figure size 640x480 with 1 Axes>"
            ]
          },
          "metadata": {},
          "output_type": "display_data"
        }
      ],
      "source": [
        "# Sélectionner les colonnes numériques\n",
        "colonnes_numeriques = df.select_dtypes(include=[\"number\"]).columns\n",
        "print(colonnes_numeriques)\n",
        "# Créer un box plot pour chaque colonne\n",
        "for colonne in colonnes_numeriques:\n",
        "    fig, ax = plt.subplots()\n",
        "    # Ignorer les valeurs NaN pour la colonne\n",
        "    ax.boxplot(df[colonne].dropna())\n",
        "    # Définir le titre du graphique avec le nom de la colonne\n",
        "    ax.set_title(colonne)\n",
        "    plt.show()"
      ]
    },
    {
      "cell_type": "code",
      "execution_count": 362,
      "metadata": {},
      "outputs": [],
      "source": [
        "# Définir le seuil max en kilojoules (900 kcal)\n",
        "seuil_max_kj = 900 * 4.184  # ≈ 3765.6 kJ\n",
        "\n",
        "# Supprimer les lignes où energy_100g est < 0 ou > 3765.6 kJ\n",
        "df = df[(df['energy_100g'] >= 0) & (df['energy_100g'] <= seuil_max_kj)]\n"
      ]
    },
    {
      "cell_type": "code",
      "execution_count": 363,
      "metadata": {},
      "outputs": [
        {
          "name": "stdout",
          "output_type": "stream",
          "text": [
            "<class 'pandas.core.frame.DataFrame'>\n",
            "Index: 37700 entries, 106 to 320757\n",
            "Data columns (total 9 columns):\n",
            " #   Column                   Non-Null Count  Dtype  \n",
            "---  ------                   --------------  -----  \n",
            " 0   code                     37700 non-null  object \n",
            " 1   product_name             37700 non-null  object \n",
            " 2   countries                37700 non-null  object \n",
            " 3   nutrition_grade_fr       36090 non-null  object \n",
            " 4   pnns_groups_1            37700 non-null  object \n",
            " 5   pnns_groups_2            37700 non-null  object \n",
            " 6   energy_100g              37700 non-null  float64\n",
            " 7   sugars_100g              36729 non-null  float64\n",
            " 8   nutrition-score-fr_100g  36090 non-null  float64\n",
            "dtypes: float64(3), object(6)\n",
            "memory usage: 2.9+ MB\n"
          ]
        }
      ],
      "source": [
        "df.info()"
      ]
    },
    {
      "cell_type": "code",
      "execution_count": 364,
      "metadata": {},
      "outputs": [
        {
          "data": {
            "text/plain": [
              "(37700, 9)"
            ]
          },
          "execution_count": 364,
          "metadata": {},
          "output_type": "execute_result"
        }
      ],
      "source": [
        "df.shape"
      ]
    },
    {
      "cell_type": "code",
      "execution_count": 365,
      "metadata": {},
      "outputs": [],
      "source": [
        "df = df[(df['sugars_100g'] >= 0) & (df['sugars_100g'] <= 100)]"
      ]
    },
    {
      "cell_type": "code",
      "execution_count": 366,
      "metadata": {},
      "outputs": [
        {
          "data": {
            "text/plain": [
              "(36722, 9)"
            ]
          },
          "execution_count": 366,
          "metadata": {},
          "output_type": "execute_result"
        }
      ],
      "source": [
        "df.shape"
      ]
    },
    {
      "cell_type": "code",
      "execution_count": 367,
      "metadata": {},
      "outputs": [
        {
          "data": {
            "text/plain": [
              "array([22., 14., 26., 13., 15., 12., nan,  6., 18., 20.,  1., 11., 19.,\n",
              "        4.,  2.,  7.,  5.,  0., 25.,  3., 17., 16., 24.,  9., 21., 23.,\n",
              "       10.,  8., 29., 35., 27., 28., 36., 32., 30., 33., 31., 34.])"
            ]
          },
          "execution_count": 367,
          "metadata": {},
          "output_type": "execute_result"
        }
      ],
      "source": [
        "df['nutrition-score-fr_100g'].unique()"
      ]
    },
    {
      "cell_type": "code",
      "execution_count": 368,
      "metadata": {},
      "outputs": [
        {
          "name": "stdout",
          "output_type": "stream",
          "text": [
            "<class 'pandas.core.frame.DataFrame'>\n",
            "Index: 36722 entries, 106 to 320757\n",
            "Data columns (total 9 columns):\n",
            " #   Column                   Non-Null Count  Dtype  \n",
            "---  ------                   --------------  -----  \n",
            " 0   code                     36722 non-null  object \n",
            " 1   product_name             36722 non-null  object \n",
            " 2   countries                36722 non-null  object \n",
            " 3   nutrition_grade_fr       36085 non-null  object \n",
            " 4   pnns_groups_1            36722 non-null  object \n",
            " 5   pnns_groups_2            36722 non-null  object \n",
            " 6   energy_100g              36722 non-null  float64\n",
            " 7   sugars_100g              36722 non-null  float64\n",
            " 8   nutrition-score-fr_100g  36085 non-null  float64\n",
            "dtypes: float64(3), object(6)\n",
            "memory usage: 2.8+ MB\n"
          ]
        }
      ],
      "source": [
        "df.info()"
      ]
    },
    {
      "cell_type": "code",
      "execution_count": 369,
      "metadata": {},
      "outputs": [
        {
          "data": {
            "text/plain": [
              "count    36722.000000\n",
              "mean        20.820045\n",
              "std         21.958962\n",
              "min          0.000000\n",
              "25%          2.500000\n",
              "50%         12.000000\n",
              "75%         33.800000\n",
              "max        100.000000\n",
              "Name: sugars_100g, dtype: float64"
            ]
          },
          "execution_count": 369,
          "metadata": {},
          "output_type": "execute_result"
        }
      ],
      "source": [
        "df['sugars_100g'].describe()"
      ]
    },
    {
      "cell_type": "code",
      "execution_count": 370,
      "metadata": {},
      "outputs": [
        {
          "data": {
            "text/plain": [
              "count    36722.000000\n",
              "mean      1231.764653\n",
              "std        766.315385\n",
              "min          0.000000\n",
              "25%        506.000000\n",
              "50%       1305.000000\n",
              "75%       1870.000000\n",
              "max       3761.000000\n",
              "Name: energy_100g, dtype: float64"
            ]
          },
          "execution_count": 370,
          "metadata": {},
          "output_type": "execute_result"
        }
      ],
      "source": [
        "df['energy_100g'].describe()"
      ]
    },
    {
      "cell_type": "markdown",
      "metadata": {
        "id": "SjuUdSMCK-em"
      },
      "source": [
        "    2.3 Remplacement des NaN par la moyenne(mean)\n"
      ]
    },
    {
      "cell_type": "code",
      "execution_count": 371,
      "metadata": {},
      "outputs": [],
      "source": [
        "# Permet de supprimer les lignes contenant des produits contenant \"protein\" dans le nom et des pays contenant \"Germany\"\n",
        "df = df[~((df['countries'].str.contains('Germany', case=False, na=False)) & (df['product_name'].str.contains('protein', case=False, na=False)))]\n"
      ]
    },
    {
      "cell_type": "code",
      "execution_count": 372,
      "metadata": {},
      "outputs": [
        {
          "name": "stdout",
          "output_type": "stream",
          "text": [
            "                                product_name nutrition_grade_fr  \\\n",
            "218                       Belgische Pralinen                  e   \n",
            "360                       Sour Fruit Gummies                  d   \n",
            "361                               Jelly Fish                  c   \n",
            "92505                   Half Baked Ice Cream                  d   \n",
            "101005                             Zaru Soba                  b   \n",
            "111476                             Yogurette                  e   \n",
            "112620                        Lakridsknapper                  d   \n",
            "112624  Tarallini Snack med Hvidløg og Chili                NaN   \n",
            "112625                      Belgiske Trøfler                  e   \n",
            "114516  Pancake & Waffle Mix Lemon Blueberry                  c   \n",
            "\n",
            "                  pnns_groups_1       pnns_groups_2 countries  \n",
            "218               Sugary snacks              Sweets   Germany  \n",
            "360               Sugary snacks              Sweets   Germany  \n",
            "361               Sugary snacks              Sweets   Germany  \n",
            "92505   Milk and dairy products           Ice cream   Germany  \n",
            "101005                  unknown             unknown   Germany  \n",
            "111476            Sugary snacks  Chocolate products   Germany  \n",
            "112620            Sugary snacks              Sweets   Germany  \n",
            "112624                  unknown             unknown   Germany  \n",
            "112625            Sugary snacks              Sweets   Germany  \n",
            "114516                  unknown             unknown   Germany  \n"
          ]
        }
      ],
      "source": [
        "df_germany = df[df['countries'].str.contains('Germany', case=False, na=False)]\n",
        "df_germany = df_germany[['product_name', 'nutrition_grade_fr', 'pnns_groups_1', 'pnns_groups_2', 'countries']]\n",
        "\n",
        "print(df_germany.head(10))"
      ]
    },
    {
      "cell_type": "code",
      "execution_count": 373,
      "metadata": {},
      "outputs": [],
      "source": [
        "df.loc[df['code'] == 39529, 'nutrition_grade_fr'] = 'd'\n",
        "df.loc[df['code'] == 39529, 'pnns_groups_1'] = 'Sugary snacks'\n",
        "df.loc[df['code'] == 39529, 'pnns_groups_2'] = 'Biscuits and cakes'\n",
        "\n"
      ]
    },
    {
      "cell_type": "code",
      "execution_count": 374,
      "metadata": {},
      "outputs": [
        {
          "name": "stdout",
          "output_type": "stream",
          "text": [
            "         code  pnns_groups_1 pnns_groups_2\n",
            "106     36252  Sugary snacks        Sweets\n",
            "190  10187319  Sugary snacks        Sweets\n",
            "191  10207260  Sugary snacks        Sweets\n"
          ]
        }
      ],
      "source": [
        "df.loc[df['code'] == 10187319, 'pnns_groups_1'] = 'Sugary snacks',\n",
        "df.loc[df['code'] == 10187319, 'pnns_groups_2'] = 'Sweets'\n",
        "df.loc[df['code'] == 10207260, 'pnns_groups_1'] = 'Sugary snacks'\n",
        "df.loc[df['code'] == 10207260, 'pnns_groups_2'] = 'Sweets'\n",
        "df.loc[df['code'] == 36252, 'pnns_groups_1'] = 'Sugary snacks'\n",
        "df.loc[df['code'] == 36252, 'pnns_groups_2'] = 'Sweets'\n",
        "print(df[df['code'].isin([36252, 10187319, 10207260])][['code', 'pnns_groups_1', 'pnns_groups_2']])\n"
      ]
    },
    {
      "cell_type": "code",
      "execution_count": 375,
      "metadata": {},
      "outputs": [
        {
          "name": "stdout",
          "output_type": "stream",
          "text": [
            "8609\n"
          ]
        }
      ],
      "source": [
        "nombre_sugary_snacks = df[df['pnns_groups_1'] == 'Sugary snacks'].shape[0]\n",
        "print(nombre_sugary_snacks)\n"
      ]
    },
    {
      "cell_type": "code",
      "execution_count": 376,
      "metadata": {},
      "outputs": [
        {
          "name": "stdout",
          "output_type": "stream",
          "text": [
            "22343\n"
          ]
        }
      ],
      "source": [
        "nombre_unknown = df[df['pnns_groups_1'] == 'unknown'].shape[0]\n",
        "print(nombre_unknown)\n"
      ]
    },
    {
      "cell_type": "code",
      "execution_count": 377,
      "metadata": {},
      "outputs": [
        {
          "name": "stdout",
          "output_type": "stream",
          "text": [
            "3399\n"
          ]
        }
      ],
      "source": [
        "nombre_Beverages = df[df['pnns_groups_1'] == 'Beverages'].shape[0]\n",
        "print(nombre_Beverages)"
      ]
    },
    {
      "cell_type": "code",
      "execution_count": 378,
      "metadata": {},
      "outputs": [],
      "source": [
        "df['pnns_groups_1'] = df['pnns_groups_1'].replace('unknown', 'Sugary snacks')\n"
      ]
    },
    {
      "cell_type": "code",
      "execution_count": 379,
      "metadata": {},
      "outputs": [
        {
          "name": "stdout",
          "output_type": "stream",
          "text": [
            "1599\n"
          ]
        }
      ],
      "source": [
        "nombre_Sweetened_beverages = df[df['pnns_groups_2'] == 'Sweetened beverages'].shape[0]\n",
        "print(nombre_Sweetened_beverages)"
      ]
    },
    {
      "cell_type": "code",
      "execution_count": 380,
      "metadata": {},
      "outputs": [
        {
          "name": "stdout",
          "output_type": "stream",
          "text": [
            "2871\n"
          ]
        }
      ],
      "source": [
        "nombre_Sweets = df[df['pnns_groups_2'] == 'Sweets'].shape[0]\n",
        "print(nombre_Sweets)"
      ]
    },
    {
      "cell_type": "code",
      "execution_count": 381,
      "metadata": {},
      "outputs": [
        {
          "name": "stdout",
          "output_type": "stream",
          "text": [
            "3504\n"
          ]
        }
      ],
      "source": [
        "nombre_Biscuits_and_cakes = df[df['pnns_groups_2'] == 'Biscuits and cakes'].shape[0]\n",
        "print(nombre_Biscuits_and_cakes)"
      ]
    },
    {
      "cell_type": "code",
      "execution_count": 382,
      "metadata": {},
      "outputs": [
        {
          "name": "stdout",
          "output_type": "stream",
          "text": [
            "22343\n"
          ]
        }
      ],
      "source": [
        "nombre_unknown = df[df['pnns_groups_2'] == 'unknown'].shape[0]\n",
        "print(nombre_unknown)"
      ]
    },
    {
      "cell_type": "code",
      "execution_count": 383,
      "metadata": {},
      "outputs": [
        {
          "data": {
            "text/plain": [
              "np.int64(0)"
            ]
          },
          "execution_count": 383,
          "metadata": {},
          "output_type": "execute_result"
        }
      ],
      "source": [
        "# Remplacer les NaN dans la colonne 'nutrition-score-fr_100g' par 14\n",
        "df['nutrition-score-fr_100g'] = df['nutrition-score-fr_100g'].fillna(14)\n",
        "\n",
        "# Vérifier le résultat\n",
        "df['nutrition-score-fr_100g'].isna().sum()  # Devrait afficher 0"
      ]
    },
    {
      "cell_type": "code",
      "execution_count": 384,
      "metadata": {},
      "outputs": [
        {
          "name": "stdout",
          "output_type": "stream",
          "text": [
            "0\n"
          ]
        }
      ],
      "source": [
        "# Supprimer les lignes où 'nutrition_grade_fr' est NaN\n",
        "df = df.dropna(subset=['nutrition_grade_fr'])\n",
        "\n",
        "# Vérifier que les NaN ont été supprimés\n",
        "print(df['nutrition_grade_fr'].isna().sum())  # Devrait afficher 0"
      ]
    },
    {
      "cell_type": "code",
      "execution_count": 385,
      "metadata": {},
      "outputs": [
        {
          "name": "stdout",
          "output_type": "stream",
          "text": [
            "<class 'pandas.core.frame.DataFrame'>\n",
            "Index: 14048 entries, 106 to 320702\n",
            "Data columns (total 9 columns):\n",
            " #   Column                   Non-Null Count  Dtype  \n",
            "---  ------                   --------------  -----  \n",
            " 0   code                     14048 non-null  object \n",
            " 1   product_name             14048 non-null  object \n",
            " 2   countries                14048 non-null  object \n",
            " 3   nutrition_grade_fr       14048 non-null  object \n",
            " 4   pnns_groups_1            14048 non-null  object \n",
            " 5   pnns_groups_2            14048 non-null  object \n",
            " 6   energy_100g              14048 non-null  float64\n",
            " 7   sugars_100g              14048 non-null  float64\n",
            " 8   nutrition-score-fr_100g  14048 non-null  float64\n",
            "dtypes: float64(3), object(6)\n",
            "memory usage: 1.1+ MB\n"
          ]
        }
      ],
      "source": [
        "# Supprimer les lignes où 'unknown' apparaît dans les colonnes 'pnns_groups_1' ou 'pnns_groups_2'\n",
        "df = df[(df['pnns_groups_1'] != 'unknown') & (df['pnns_groups_2'] != 'unknown')]\n",
        "\n",
        "# Vérifier le résultat\n",
        "df.info()\n"
      ]
    },
    {
      "cell_type": "code",
      "execution_count": 386,
      "metadata": {},
      "outputs": [
        {
          "data": {
            "text/plain": [
              "count    14048.000000\n",
              "mean        14.225868\n",
              "std          7.868357\n",
              "min          0.000000\n",
              "25%          8.000000\n",
              "50%         14.000000\n",
              "75%         21.000000\n",
              "max         35.000000\n",
              "Name: nutrition-score-fr_100g, dtype: float64"
            ]
          },
          "execution_count": 386,
          "metadata": {},
          "output_type": "execute_result"
        }
      ],
      "source": [
        "df['nutrition-score-fr_100g'].describe()"
      ]
    },
    {
      "cell_type": "code",
      "execution_count": 387,
      "metadata": {},
      "outputs": [
        {
          "data": {
            "text/plain": [
              "array(['Sugary snacks', 'Beverages', 'Cereals and potatoes',\n",
              "       'Milk and dairy products'], dtype=object)"
            ]
          },
          "execution_count": 387,
          "metadata": {},
          "output_type": "execute_result"
        }
      ],
      "source": [
        "df['pnns_groups_1'].unique()"
      ]
    },
    {
      "cell_type": "code",
      "execution_count": 388,
      "metadata": {},
      "outputs": [
        {
          "data": {
            "text/plain": [
              "array(['Sweets', 'Sweetened beverages', 'Biscuits and cakes',\n",
              "       'Fruit juices', 'Breakfast cereals', 'Chocolate products',\n",
              "       'Ice cream', 'Dairy desserts', 'Fruit nectars'], dtype=object)"
            ]
          },
          "execution_count": 388,
          "metadata": {},
          "output_type": "execute_result"
        }
      ],
      "source": [
        "df['pnns_groups_2'].unique()"
      ]
    },
    {
      "cell_type": "code",
      "execution_count": 389,
      "metadata": {},
      "outputs": [],
      "source": [
        "df = df[df['nutrition_grade_fr'].notna() & (df['nutrition_grade_fr'].str.strip() != \"\")]\n"
      ]
    },
    {
      "cell_type": "code",
      "execution_count": 390,
      "metadata": {
        "colab": {
          "base_uri": "https://localhost:8080/",
          "height": 1000
        },
        "id": "FFo8d4xwOvQP",
        "outputId": "65238713-c446-4183-e770-d5b44ba91380"
      },
      "outputs": [
        {
          "data": {
            "text/html": [
              "<div>\n",
              "<style scoped>\n",
              "    .dataframe tbody tr th:only-of-type {\n",
              "        vertical-align: middle;\n",
              "    }\n",
              "\n",
              "    .dataframe tbody tr th {\n",
              "        vertical-align: top;\n",
              "    }\n",
              "\n",
              "    .dataframe thead th {\n",
              "        text-align: right;\n",
              "    }\n",
              "</style>\n",
              "<table border=\"1\" class=\"dataframe\">\n",
              "  <thead>\n",
              "    <tr style=\"text-align: right;\">\n",
              "      <th></th>\n",
              "      <th>code</th>\n",
              "      <th>product_name</th>\n",
              "      <th>countries</th>\n",
              "      <th>nutrition_grade_fr</th>\n",
              "      <th>pnns_groups_1</th>\n",
              "      <th>pnns_groups_2</th>\n",
              "      <th>energy_100g</th>\n",
              "      <th>sugars_100g</th>\n",
              "      <th>nutrition-score-fr_100g</th>\n",
              "    </tr>\n",
              "  </thead>\n",
              "  <tbody>\n",
              "    <tr>\n",
              "      <th>106</th>\n",
              "      <td>36252</td>\n",
              "      <td>Lion Peanut x2</td>\n",
              "      <td>en:FR</td>\n",
              "      <td>e</td>\n",
              "      <td>Sugary snacks</td>\n",
              "      <td>Sweets</td>\n",
              "      <td>1883.0</td>\n",
              "      <td>57.50</td>\n",
              "      <td>22.0</td>\n",
              "    </tr>\n",
              "    <tr>\n",
              "      <th>190</th>\n",
              "      <td>10187319</td>\n",
              "      <td>Mini Confettis</td>\n",
              "      <td>en:FR</td>\n",
              "      <td>d</td>\n",
              "      <td>Sugary snacks</td>\n",
              "      <td>Sweets</td>\n",
              "      <td>1753.0</td>\n",
              "      <td>87.70</td>\n",
              "      <td>14.0</td>\n",
              "    </tr>\n",
              "    <tr>\n",
              "      <th>191</th>\n",
              "      <td>10207260</td>\n",
              "      <td>Praliné Amande Et Noisette</td>\n",
              "      <td>en:FR</td>\n",
              "      <td>d</td>\n",
              "      <td>Sugary snacks</td>\n",
              "      <td>Sweets</td>\n",
              "      <td>2406.0</td>\n",
              "      <td>50.30</td>\n",
              "      <td>14.0</td>\n",
              "    </tr>\n",
              "    <tr>\n",
              "      <th>218</th>\n",
              "      <td>20424640</td>\n",
              "      <td>Belgische Pralinen</td>\n",
              "      <td>Germany</td>\n",
              "      <td>e</td>\n",
              "      <td>Sugary snacks</td>\n",
              "      <td>Sweets</td>\n",
              "      <td>2257.0</td>\n",
              "      <td>51.50</td>\n",
              "      <td>26.0</td>\n",
              "    </tr>\n",
              "    <tr>\n",
              "      <th>226</th>\n",
              "      <td>40608754</td>\n",
              "      <td>Pepsi, Nouveau goût !</td>\n",
              "      <td>en:FR</td>\n",
              "      <td>e</td>\n",
              "      <td>Beverages</td>\n",
              "      <td>Sweetened beverages</td>\n",
              "      <td>177.0</td>\n",
              "      <td>10.40</td>\n",
              "      <td>13.0</td>\n",
              "    </tr>\n",
              "    <tr>\n",
              "      <th>240</th>\n",
              "      <td>87177756</td>\n",
              "      <td>7Up</td>\n",
              "      <td>en:FR</td>\n",
              "      <td>e</td>\n",
              "      <td>Beverages</td>\n",
              "      <td>Sweetened beverages</td>\n",
              "      <td>177.0</td>\n",
              "      <td>10.40</td>\n",
              "      <td>13.0</td>\n",
              "    </tr>\n",
              "    <tr>\n",
              "      <th>242</th>\n",
              "      <td>10</td>\n",
              "      <td>Madeleines nature</td>\n",
              "      <td>en:FR</td>\n",
              "      <td>d</td>\n",
              "      <td>Sugary snacks</td>\n",
              "      <td>Biscuits and cakes</td>\n",
              "      <td>1900.0</td>\n",
              "      <td>26.00</td>\n",
              "      <td>12.0</td>\n",
              "    </tr>\n",
              "    <tr>\n",
              "      <th>279</th>\n",
              "      <td>30</td>\n",
              "      <td>Cakes Raisins</td>\n",
              "      <td>en:FR</td>\n",
              "      <td>d</td>\n",
              "      <td>Sugary snacks</td>\n",
              "      <td>Biscuits and cakes</td>\n",
              "      <td>1768.0</td>\n",
              "      <td>28.00</td>\n",
              "      <td>13.0</td>\n",
              "    </tr>\n",
              "    <tr>\n",
              "      <th>283</th>\n",
              "      <td>31</td>\n",
              "      <td>Cakes aux Fruits</td>\n",
              "      <td>en:FR</td>\n",
              "      <td>d</td>\n",
              "      <td>Sugary snacks</td>\n",
              "      <td>Biscuits and cakes</td>\n",
              "      <td>1670.0</td>\n",
              "      <td>34.00</td>\n",
              "      <td>12.0</td>\n",
              "    </tr>\n",
              "    <tr>\n",
              "      <th>299</th>\n",
              "      <td>50</td>\n",
              "      <td>Financiers aux Amandes</td>\n",
              "      <td>en:FR</td>\n",
              "      <td>e</td>\n",
              "      <td>Sugary snacks</td>\n",
              "      <td>Biscuits and cakes</td>\n",
              "      <td>1868.0</td>\n",
              "      <td>39.00</td>\n",
              "      <td>22.0</td>\n",
              "    </tr>\n",
              "    <tr>\n",
              "      <th>301</th>\n",
              "      <td>51</td>\n",
              "      <td>Fondants Citron</td>\n",
              "      <td>en:FR</td>\n",
              "      <td>e</td>\n",
              "      <td>Sugary snacks</td>\n",
              "      <td>Biscuits and cakes</td>\n",
              "      <td>1896.0</td>\n",
              "      <td>37.00</td>\n",
              "      <td>22.0</td>\n",
              "    </tr>\n",
              "    <tr>\n",
              "      <th>360</th>\n",
              "      <td>790310013</td>\n",
              "      <td>Sour Fruit Gummies</td>\n",
              "      <td>Germany</td>\n",
              "      <td>d</td>\n",
              "      <td>Sugary snacks</td>\n",
              "      <td>Sweets</td>\n",
              "      <td>1360.0</td>\n",
              "      <td>57.50</td>\n",
              "      <td>14.0</td>\n",
              "    </tr>\n",
              "    <tr>\n",
              "      <th>361</th>\n",
              "      <td>790310020</td>\n",
              "      <td>Jelly Fish</td>\n",
              "      <td>Germany</td>\n",
              "      <td>c</td>\n",
              "      <td>Sugary snacks</td>\n",
              "      <td>Sweets</td>\n",
              "      <td>586.0</td>\n",
              "      <td>24.00</td>\n",
              "      <td>6.0</td>\n",
              "    </tr>\n",
              "    <tr>\n",
              "      <th>428</th>\n",
              "      <td>104</td>\n",
              "      <td>30 Panach' Fruits</td>\n",
              "      <td>en:FR</td>\n",
              "      <td>d</td>\n",
              "      <td>Sugary snacks</td>\n",
              "      <td>Biscuits and cakes</td>\n",
              "      <td>1724.0</td>\n",
              "      <td>31.00</td>\n",
              "      <td>13.0</td>\n",
              "    </tr>\n",
              "    <tr>\n",
              "      <th>454</th>\n",
              "      <td>11693</td>\n",
              "      <td>All Buter Belgian White Chocolate Chunk Cookies</td>\n",
              "      <td>en:FR</td>\n",
              "      <td>e</td>\n",
              "      <td>Sugary snacks</td>\n",
              "      <td>Biscuits and cakes</td>\n",
              "      <td>2172.0</td>\n",
              "      <td>33.50</td>\n",
              "      <td>26.0</td>\n",
              "    </tr>\n",
              "    <tr>\n",
              "      <th>458</th>\n",
              "      <td>11778</td>\n",
              "      <td>Stem Ginger Cookies</td>\n",
              "      <td>en:FR</td>\n",
              "      <td>d</td>\n",
              "      <td>Sugary snacks</td>\n",
              "      <td>Biscuits and cakes</td>\n",
              "      <td>1809.0</td>\n",
              "      <td>35.70</td>\n",
              "      <td>18.0</td>\n",
              "    </tr>\n",
              "    <tr>\n",
              "      <th>459</th>\n",
              "      <td>11815</td>\n",
              "      <td>Stem Ginger Dunkers</td>\n",
              "      <td>en:FR</td>\n",
              "      <td>e</td>\n",
              "      <td>Sugary snacks</td>\n",
              "      <td>Biscuits and cakes</td>\n",
              "      <td>1981.0</td>\n",
              "      <td>31.80</td>\n",
              "      <td>20.0</td>\n",
              "    </tr>\n",
              "    <tr>\n",
              "      <th>508</th>\n",
              "      <td>227</td>\n",
              "      <td>Bijou Caramel ChocoLait</td>\n",
              "      <td>en:FR</td>\n",
              "      <td>e</td>\n",
              "      <td>Sugary snacks</td>\n",
              "      <td>Biscuits and cakes</td>\n",
              "      <td>1807.0</td>\n",
              "      <td>37.00</td>\n",
              "      <td>19.0</td>\n",
              "    </tr>\n",
              "    <tr>\n",
              "      <th>9744</th>\n",
              "      <td>1151</td>\n",
              "      <td>Mini Crêpes ChocoLait</td>\n",
              "      <td>en:FR</td>\n",
              "      <td>e</td>\n",
              "      <td>Sugary snacks</td>\n",
              "      <td>Biscuits and cakes</td>\n",
              "      <td>2018.0</td>\n",
              "      <td>48.00</td>\n",
              "      <td>24.0</td>\n",
              "    </tr>\n",
              "    <tr>\n",
              "      <th>9890</th>\n",
              "      <td>11747615105</td>\n",
              "      <td>Ginger candy</td>\n",
              "      <td>en:FR</td>\n",
              "      <td>d</td>\n",
              "      <td>Sugary snacks</td>\n",
              "      <td>Sweets</td>\n",
              "      <td>1632.0</td>\n",
              "      <td>70.30</td>\n",
              "      <td>14.0</td>\n",
              "    </tr>\n",
              "    <tr>\n",
              "      <th>9891</th>\n",
              "      <td>117746</td>\n",
              "      <td>Reduced Fat Belgian Chocolate Chunk Cookies</td>\n",
              "      <td>en:FR</td>\n",
              "      <td>e</td>\n",
              "      <td>Sugary snacks</td>\n",
              "      <td>Biscuits and cakes</td>\n",
              "      <td>1928.0</td>\n",
              "      <td>44.40</td>\n",
              "      <td>24.0</td>\n",
              "    </tr>\n",
              "    <tr>\n",
              "      <th>11272</th>\n",
              "      <td>14100096979</td>\n",
              "      <td>Chocolate Chunk Crispy Cookies - Dark Chocolat...</td>\n",
              "      <td>en:FR</td>\n",
              "      <td>e</td>\n",
              "      <td>Sugary snacks</td>\n",
              "      <td>Biscuits and cakes</td>\n",
              "      <td>2269.0</td>\n",
              "      <td>34.00</td>\n",
              "      <td>21.0</td>\n",
              "    </tr>\n",
              "    <tr>\n",
              "      <th>11273</th>\n",
              "      <td>14100096986</td>\n",
              "      <td>Chocolate Chunk Dark Double Chocolate Crispy C...</td>\n",
              "      <td>en:FR</td>\n",
              "      <td>e</td>\n",
              "      <td>Sugary snacks</td>\n",
              "      <td>Biscuits and cakes</td>\n",
              "      <td>2131.0</td>\n",
              "      <td>34.80</td>\n",
              "      <td>21.0</td>\n",
              "    </tr>\n",
              "    <tr>\n",
              "      <th>11275</th>\n",
              "      <td>14100097006</td>\n",
              "      <td>Chocolate Chunk Milk Chocolate Macadamia Crisp...</td>\n",
              "      <td>en:FR</td>\n",
              "      <td>e</td>\n",
              "      <td>Sugary snacks</td>\n",
              "      <td>Biscuits and cakes</td>\n",
              "      <td>2230.0</td>\n",
              "      <td>32.60</td>\n",
              "      <td>21.0</td>\n",
              "    </tr>\n",
              "    <tr>\n",
              "      <th>11276</th>\n",
              "      <td>14100097013</td>\n",
              "      <td>Chocolate Chunk White Chocolate Macadamia Cris...</td>\n",
              "      <td>en:FR</td>\n",
              "      <td>e</td>\n",
              "      <td>Sugary snacks</td>\n",
              "      <td>Biscuits and cakes</td>\n",
              "      <td>2238.0</td>\n",
              "      <td>30.40</td>\n",
              "      <td>20.0</td>\n",
              "    </tr>\n",
              "    <tr>\n",
              "      <th>11277</th>\n",
              "      <td>14100097037</td>\n",
              "      <td>Soft Baked Chocolate Chunk Dark Chocolat Brownie</td>\n",
              "      <td>en:FR</td>\n",
              "      <td>e</td>\n",
              "      <td>Sugary snacks</td>\n",
              "      <td>Biscuits and cakes</td>\n",
              "      <td>1946.0</td>\n",
              "      <td>41.70</td>\n",
              "      <td>21.0</td>\n",
              "    </tr>\n",
              "    <tr>\n",
              "      <th>11278</th>\n",
              "      <td>14100097068</td>\n",
              "      <td>Oatmeal Raisin</td>\n",
              "      <td>en:FR</td>\n",
              "      <td>d</td>\n",
              "      <td>Sugary snacks</td>\n",
              "      <td>Biscuits and cakes</td>\n",
              "      <td>1753.0</td>\n",
              "      <td>41.90</td>\n",
              "      <td>16.0</td>\n",
              "    </tr>\n",
              "    <tr>\n",
              "      <th>11281</th>\n",
              "      <td>14100098980</td>\n",
              "      <td>Soft Baker chocolate chunk</td>\n",
              "      <td>en:FR</td>\n",
              "      <td>e</td>\n",
              "      <td>Sugary snacks</td>\n",
              "      <td>Biscuits and cakes</td>\n",
              "      <td>1916.0</td>\n",
              "      <td>40.80</td>\n",
              "      <td>22.0</td>\n",
              "    </tr>\n",
              "    <tr>\n",
              "      <th>13112</th>\n",
              "      <td>16229004507</td>\n",
              "      <td>Foco basil seed drink</td>\n",
              "      <td>en:FR</td>\n",
              "      <td>e</td>\n",
              "      <td>Beverages</td>\n",
              "      <td>Sweetened beverages</td>\n",
              "      <td>266.0</td>\n",
              "      <td>13.30</td>\n",
              "      <td>18.0</td>\n",
              "    </tr>\n",
              "    <tr>\n",
              "      <th>13129</th>\n",
              "      <td>16229901141</td>\n",
              "      <td>Coconut Juice</td>\n",
              "      <td>en:FR</td>\n",
              "      <td>b</td>\n",
              "      <td>Beverages</td>\n",
              "      <td>Fruit juices</td>\n",
              "      <td>142.0</td>\n",
              "      <td>6.29</td>\n",
              "      <td>0.0</td>\n",
              "    </tr>\n",
              "    <tr>\n",
              "      <th>13133</th>\n",
              "      <td>16229901226</td>\n",
              "      <td>Lychee drink</td>\n",
              "      <td>en:FR</td>\n",
              "      <td>e</td>\n",
              "      <td>Beverages</td>\n",
              "      <td>Sweetened beverages</td>\n",
              "      <td>187.0</td>\n",
              "      <td>11.00</td>\n",
              "      <td>15.0</td>\n",
              "    </tr>\n",
              "    <tr>\n",
              "      <th>13134</th>\n",
              "      <td>16229901479</td>\n",
              "      <td>coconut juice</td>\n",
              "      <td>en:FR</td>\n",
              "      <td>b</td>\n",
              "      <td>Beverages</td>\n",
              "      <td>Fruit juices</td>\n",
              "      <td>140.0</td>\n",
              "      <td>6.25</td>\n",
              "      <td>0.0</td>\n",
              "    </tr>\n",
              "    <tr>\n",
              "      <th>13135</th>\n",
              "      <td>16229902643</td>\n",
              "      <td>Roasted Coconut Juice</td>\n",
              "      <td>en:FR</td>\n",
              "      <td>c</td>\n",
              "      <td>Beverages</td>\n",
              "      <td>Fruit juices</td>\n",
              "      <td>172.0</td>\n",
              "      <td>8.90</td>\n",
              "      <td>2.0</td>\n",
              "    </tr>\n",
              "    <tr>\n",
              "      <th>13138</th>\n",
              "      <td>16229903534</td>\n",
              "      <td>Soursop Juice</td>\n",
              "      <td>en:FR</td>\n",
              "      <td>e</td>\n",
              "      <td>Beverages</td>\n",
              "      <td>Sweetened beverages</td>\n",
              "      <td>184.0</td>\n",
              "      <td>11.00</td>\n",
              "      <td>15.0</td>\n",
              "    </tr>\n",
              "    <tr>\n",
              "      <th>13419</th>\n",
              "      <td>1664</td>\n",
              "      <td>Brins de ChocoCaramel</td>\n",
              "      <td>en:FR</td>\n",
              "      <td>e</td>\n",
              "      <td>Sugary snacks</td>\n",
              "      <td>Biscuits and cakes</td>\n",
              "      <td>1960.0</td>\n",
              "      <td>50.00</td>\n",
              "      <td>24.0</td>\n",
              "    </tr>\n",
              "    <tr>\n",
              "      <th>15157</th>\n",
              "      <td>19281700110</td>\n",
              "      <td>Boisson a base de jus de lychee</td>\n",
              "      <td>en:FR</td>\n",
              "      <td>e</td>\n",
              "      <td>Beverages</td>\n",
              "      <td>Sweetened beverages</td>\n",
              "      <td>192.0</td>\n",
              "      <td>11.30</td>\n",
              "      <td>15.0</td>\n",
              "    </tr>\n",
              "    <tr>\n",
              "      <th>15163</th>\n",
              "      <td>19320015441</td>\n",
              "      <td>Shortbread Cookies</td>\n",
              "      <td>en:FR</td>\n",
              "      <td>d</td>\n",
              "      <td>Sugary snacks</td>\n",
              "      <td>Biscuits and cakes</td>\n",
              "      <td>2040.0</td>\n",
              "      <td>18.60</td>\n",
              "      <td>17.0</td>\n",
              "    </tr>\n",
              "    <tr>\n",
              "      <th>19458</th>\n",
              "      <td>22000015969</td>\n",
              "      <td>Wild Berry Skittles</td>\n",
              "      <td>en:FR</td>\n",
              "      <td>d</td>\n",
              "      <td>Sugary snacks</td>\n",
              "      <td>Sweets</td>\n",
              "      <td>1690.0</td>\n",
              "      <td>63.00</td>\n",
              "      <td>18.0</td>\n",
              "    </tr>\n",
              "    <tr>\n",
              "      <th>19493</th>\n",
              "      <td>220347</td>\n",
              "      <td>Diet Lemonade</td>\n",
              "      <td>en:FR</td>\n",
              "      <td>c</td>\n",
              "      <td>Beverages</td>\n",
              "      <td>Sweetened beverages</td>\n",
              "      <td>42.0</td>\n",
              "      <td>0.20</td>\n",
              "      <td>3.0</td>\n",
              "    </tr>\n",
              "    <tr>\n",
              "      <th>19570</th>\n",
              "      <td>22314010018</td>\n",
              "      <td>Crème de marrons de l'Ardèche</td>\n",
              "      <td>en:FR</td>\n",
              "      <td>c</td>\n",
              "      <td>Sugary snacks</td>\n",
              "      <td>Sweets</td>\n",
              "      <td>1130.0</td>\n",
              "      <td>50.20</td>\n",
              "      <td>10.0</td>\n",
              "    </tr>\n",
              "    <tr>\n",
              "      <th>24953</th>\n",
              "      <td>29801025036</td>\n",
              "      <td>Gaufrettes fines</td>\n",
              "      <td>en:FR</td>\n",
              "      <td>e</td>\n",
              "      <td>Sugary snacks</td>\n",
              "      <td>Biscuits and cakes</td>\n",
              "      <td>2056.0</td>\n",
              "      <td>36.00</td>\n",
              "      <td>23.0</td>\n",
              "    </tr>\n",
              "    <tr>\n",
              "      <th>25051</th>\n",
              "      <td>29981004067</td>\n",
              "      <td>Pandoro - Italian Speciality Cake</td>\n",
              "      <td>en:FR</td>\n",
              "      <td>d</td>\n",
              "      <td>Sugary snacks</td>\n",
              "      <td>Biscuits and cakes</td>\n",
              "      <td>1618.0</td>\n",
              "      <td>13.30</td>\n",
              "      <td>16.0</td>\n",
              "    </tr>\n",
              "    <tr>\n",
              "      <th>25067</th>\n",
              "      <td>30000012109</td>\n",
              "      <td>Quaker Original</td>\n",
              "      <td>en:FR</td>\n",
              "      <td>a</td>\n",
              "      <td>Cereals and potatoes</td>\n",
              "      <td>Breakfast cereals</td>\n",
              "      <td>1490.0</td>\n",
              "      <td>0.00</td>\n",
              "      <td>0.0</td>\n",
              "    </tr>\n",
              "    <tr>\n",
              "      <th>25086</th>\n",
              "      <td>30000065075</td>\n",
              "      <td>Peanut Butter Crunch</td>\n",
              "      <td>en:FR</td>\n",
              "      <td>d</td>\n",
              "      <td>Cereals and potatoes</td>\n",
              "      <td>Breakfast cereals</td>\n",
              "      <td>1700.0</td>\n",
              "      <td>33.30</td>\n",
              "      <td>18.0</td>\n",
              "    </tr>\n",
              "    <tr>\n",
              "      <th>27153</th>\n",
              "      <td>31200490032</td>\n",
              "      <td>Cranberry Classic</td>\n",
              "      <td>en:FR</td>\n",
              "      <td>e</td>\n",
              "      <td>Beverages</td>\n",
              "      <td>Sweetened beverages</td>\n",
              "      <td>209.0</td>\n",
              "      <td>12.00</td>\n",
              "      <td>15.0</td>\n",
              "    </tr>\n",
              "    <tr>\n",
              "      <th>27215</th>\n",
              "      <td>31290718115</td>\n",
              "      <td>Dark chocolate almond</td>\n",
              "      <td>en:FR</td>\n",
              "      <td>e</td>\n",
              "      <td>Sugary snacks</td>\n",
              "      <td>Chocolate products</td>\n",
              "      <td>2333.0</td>\n",
              "      <td>24.00</td>\n",
              "      <td>21.0</td>\n",
              "    </tr>\n",
              "    <tr>\n",
              "      <th>28062</th>\n",
              "      <td>322881</td>\n",
              "      <td>Pure squeezed Florida orange juice with juicy ...</td>\n",
              "      <td>en:FR</td>\n",
              "      <td>c</td>\n",
              "      <td>Beverages</td>\n",
              "      <td>Fruit juices</td>\n",
              "      <td>179.0</td>\n",
              "      <td>9.20</td>\n",
              "      <td>3.0</td>\n",
              "    </tr>\n",
              "    <tr>\n",
              "      <th>29067</th>\n",
              "      <td>34000003341</td>\n",
              "      <td>White Reese's Peanut Butter Cups</td>\n",
              "      <td>en:FR</td>\n",
              "      <td>e</td>\n",
              "      <td>Sugary snacks</td>\n",
              "      <td>Sweets</td>\n",
              "      <td>2268.0</td>\n",
              "      <td>44.80</td>\n",
              "      <td>29.0</td>\n",
              "    </tr>\n",
              "    <tr>\n",
              "      <th>29090</th>\n",
              "      <td>34000114702</td>\n",
              "      <td>Reese's Pieces</td>\n",
              "      <td>en:FR</td>\n",
              "      <td>e</td>\n",
              "      <td>Sugary snacks</td>\n",
              "      <td>Sweets</td>\n",
              "      <td>2090.0</td>\n",
              "      <td>52.50</td>\n",
              "      <td>22.0</td>\n",
              "    </tr>\n",
              "    <tr>\n",
              "      <th>29120</th>\n",
              "      <td>34000440887</td>\n",
              "      <td>Reese's</td>\n",
              "      <td>en:FR</td>\n",
              "      <td>e</td>\n",
              "      <td>Sugary snacks</td>\n",
              "      <td>Chocolate products</td>\n",
              "      <td>2278.0</td>\n",
              "      <td>50.10</td>\n",
              "      <td>29.0</td>\n",
              "    </tr>\n",
              "    <tr>\n",
              "      <th>29122</th>\n",
              "      <td>34000441037</td>\n",
              "      <td>Peanut butter cups</td>\n",
              "      <td>en:FR</td>\n",
              "      <td>e</td>\n",
              "      <td>Sugary snacks</td>\n",
              "      <td>Chocolate products</td>\n",
              "      <td>2299.0</td>\n",
              "      <td>50.20</td>\n",
              "      <td>29.0</td>\n",
              "    </tr>\n",
              "    <tr>\n",
              "      <th>29129</th>\n",
              "      <td>34000448609</td>\n",
              "      <td>Peanut Butter Cups Miniatures</td>\n",
              "      <td>en:FR</td>\n",
              "      <td>e</td>\n",
              "      <td>Sugary snacks</td>\n",
              "      <td>Sweets</td>\n",
              "      <td>2090.0</td>\n",
              "      <td>52.30</td>\n",
              "      <td>26.0</td>\n",
              "    </tr>\n",
              "    <tr>\n",
              "      <th>29130</th>\n",
              "      <td>34000449095</td>\n",
              "      <td>Peanut Butter Cups Miniatures</td>\n",
              "      <td>en:FR</td>\n",
              "      <td>e</td>\n",
              "      <td>Sugary snacks</td>\n",
              "      <td>Sweets</td>\n",
              "      <td>2289.0</td>\n",
              "      <td>51.70</td>\n",
              "      <td>25.0</td>\n",
              "    </tr>\n",
              "    <tr>\n",
              "      <th>29140</th>\n",
              "      <td>34000473038</td>\n",
              "      <td>Milk Chocolate Reese's Peanut Butter</td>\n",
              "      <td>en:FR</td>\n",
              "      <td>e</td>\n",
              "      <td>Sugary snacks</td>\n",
              "      <td>Chocolate products</td>\n",
              "      <td>2090.0</td>\n",
              "      <td>47.10</td>\n",
              "      <td>24.0</td>\n",
              "    </tr>\n",
              "    <tr>\n",
              "      <th>30000</th>\n",
              "      <td>356398</td>\n",
              "      <td>Jus de pommes et de mangues pressé non à base ...</td>\n",
              "      <td>en:FR</td>\n",
              "      <td>d</td>\n",
              "      <td>Beverages</td>\n",
              "      <td>Fruit juices</td>\n",
              "      <td>205.0</td>\n",
              "      <td>11.10</td>\n",
              "      <td>6.0</td>\n",
              "    </tr>\n",
              "    <tr>\n",
              "      <th>34632</th>\n",
              "      <td>37600106412</td>\n",
              "      <td>Skippy extra-crunchy supercrunch</td>\n",
              "      <td>en:FR</td>\n",
              "      <td>d</td>\n",
              "      <td>Sugary snacks</td>\n",
              "      <td>Sweets</td>\n",
              "      <td>2679.0</td>\n",
              "      <td>9.40</td>\n",
              "      <td>16.0</td>\n",
              "    </tr>\n",
              "    <tr>\n",
              "      <th>35195</th>\n",
              "      <td>38000219634</td>\n",
              "      <td>Frosted Flakes</td>\n",
              "      <td>en:FR</td>\n",
              "      <td>d</td>\n",
              "      <td>Cereals and potatoes</td>\n",
              "      <td>Breakfast cereals</td>\n",
              "      <td>1600.0</td>\n",
              "      <td>35.30</td>\n",
              "      <td>12.0</td>\n",
              "    </tr>\n",
              "    <tr>\n",
              "      <th>35204</th>\n",
              "      <td>38000391200</td>\n",
              "      <td>Froot Loops</td>\n",
              "      <td>en:FR</td>\n",
              "      <td>d</td>\n",
              "      <td>Cereals and potatoes</td>\n",
              "      <td>Breakfast cereals</td>\n",
              "      <td>1590.0</td>\n",
              "      <td>41.40</td>\n",
              "      <td>14.0</td>\n",
              "    </tr>\n",
              "    <tr>\n",
              "      <th>35807</th>\n",
              "      <td>39047001312</td>\n",
              "      <td>Pure Butter Shortbread Triangles</td>\n",
              "      <td>en:FR</td>\n",
              "      <td>e</td>\n",
              "      <td>Sugary snacks</td>\n",
              "      <td>Biscuits and cakes</td>\n",
              "      <td>2092.0</td>\n",
              "      <td>20.00</td>\n",
              "      <td>23.0</td>\n",
              "    </tr>\n",
              "    <tr>\n",
              "      <th>35826</th>\n",
              "      <td>39047011496</td>\n",
              "      <td>Pure Butter Chocolate Chip Shortbread</td>\n",
              "      <td>en:FR</td>\n",
              "      <td>e</td>\n",
              "      <td>Sugary snacks</td>\n",
              "      <td>Biscuits and cakes</td>\n",
              "      <td>2168.0</td>\n",
              "      <td>25.70</td>\n",
              "      <td>22.0</td>\n",
              "    </tr>\n",
              "  </tbody>\n",
              "</table>\n",
              "</div>"
            ],
            "text/plain": [
              "              code                                       product_name  \\\n",
              "106          36252                                     Lion Peanut x2   \n",
              "190       10187319                                     Mini Confettis   \n",
              "191       10207260                         Praliné Amande Et Noisette   \n",
              "218       20424640                                 Belgische Pralinen   \n",
              "226       40608754                              Pepsi, Nouveau goût !   \n",
              "240       87177756                                                7Up   \n",
              "242             10                                  Madeleines nature   \n",
              "279             30                                      Cakes Raisins   \n",
              "283             31                                   Cakes aux Fruits   \n",
              "299             50                             Financiers aux Amandes   \n",
              "301             51                                    Fondants Citron   \n",
              "360      790310013                                 Sour Fruit Gummies   \n",
              "361      790310020                                         Jelly Fish   \n",
              "428            104                                  30 Panach' Fruits   \n",
              "454          11693    All Buter Belgian White Chocolate Chunk Cookies   \n",
              "458          11778                                Stem Ginger Cookies   \n",
              "459          11815                                Stem Ginger Dunkers   \n",
              "508            227                            Bijou Caramel ChocoLait   \n",
              "9744          1151                              Mini Crêpes ChocoLait   \n",
              "9890   11747615105                                       Ginger candy   \n",
              "9891        117746        Reduced Fat Belgian Chocolate Chunk Cookies   \n",
              "11272  14100096979  Chocolate Chunk Crispy Cookies - Dark Chocolat...   \n",
              "11273  14100096986  Chocolate Chunk Dark Double Chocolate Crispy C...   \n",
              "11275  14100097006  Chocolate Chunk Milk Chocolate Macadamia Crisp...   \n",
              "11276  14100097013  Chocolate Chunk White Chocolate Macadamia Cris...   \n",
              "11277  14100097037   Soft Baked Chocolate Chunk Dark Chocolat Brownie   \n",
              "11278  14100097068                                     Oatmeal Raisin   \n",
              "11281  14100098980                         Soft Baker chocolate chunk   \n",
              "13112  16229004507                              Foco basil seed drink   \n",
              "13129  16229901141                                      Coconut Juice   \n",
              "13133  16229901226                                       Lychee drink   \n",
              "13134  16229901479                                      coconut juice   \n",
              "13135  16229902643                              Roasted Coconut Juice   \n",
              "13138  16229903534                                      Soursop Juice   \n",
              "13419         1664                              Brins de ChocoCaramel   \n",
              "15157  19281700110                    Boisson a base de jus de lychee   \n",
              "15163  19320015441                                 Shortbread Cookies   \n",
              "19458  22000015969                                Wild Berry Skittles   \n",
              "19493       220347                                      Diet Lemonade   \n",
              "19570  22314010018                      Crème de marrons de l'Ardèche   \n",
              "24953  29801025036                                   Gaufrettes fines   \n",
              "25051  29981004067                  Pandoro - Italian Speciality Cake   \n",
              "25067  30000012109                                    Quaker Original   \n",
              "25086  30000065075                               Peanut Butter Crunch   \n",
              "27153  31200490032                                  Cranberry Classic   \n",
              "27215  31290718115                              Dark chocolate almond   \n",
              "28062       322881  Pure squeezed Florida orange juice with juicy ...   \n",
              "29067  34000003341                   White Reese's Peanut Butter Cups   \n",
              "29090  34000114702                                     Reese's Pieces   \n",
              "29120  34000440887                                            Reese's   \n",
              "29122  34000441037                                 Peanut butter cups   \n",
              "29129  34000448609                      Peanut Butter Cups Miniatures   \n",
              "29130  34000449095                      Peanut Butter Cups Miniatures   \n",
              "29140  34000473038               Milk Chocolate Reese's Peanut Butter   \n",
              "30000       356398  Jus de pommes et de mangues pressé non à base ...   \n",
              "34632  37600106412                   Skippy extra-crunchy supercrunch   \n",
              "35195  38000219634                                     Frosted Flakes   \n",
              "35204  38000391200                                        Froot Loops   \n",
              "35807  39047001312                   Pure Butter Shortbread Triangles   \n",
              "35826  39047011496              Pure Butter Chocolate Chip Shortbread   \n",
              "\n",
              "      countries nutrition_grade_fr         pnns_groups_1        pnns_groups_2  \\\n",
              "106       en:FR                  e         Sugary snacks               Sweets   \n",
              "190       en:FR                  d         Sugary snacks               Sweets   \n",
              "191       en:FR                  d         Sugary snacks               Sweets   \n",
              "218     Germany                  e         Sugary snacks               Sweets   \n",
              "226       en:FR                  e             Beverages  Sweetened beverages   \n",
              "240       en:FR                  e             Beverages  Sweetened beverages   \n",
              "242       en:FR                  d         Sugary snacks   Biscuits and cakes   \n",
              "279       en:FR                  d         Sugary snacks   Biscuits and cakes   \n",
              "283       en:FR                  d         Sugary snacks   Biscuits and cakes   \n",
              "299       en:FR                  e         Sugary snacks   Biscuits and cakes   \n",
              "301       en:FR                  e         Sugary snacks   Biscuits and cakes   \n",
              "360     Germany                  d         Sugary snacks               Sweets   \n",
              "361     Germany                  c         Sugary snacks               Sweets   \n",
              "428       en:FR                  d         Sugary snacks   Biscuits and cakes   \n",
              "454       en:FR                  e         Sugary snacks   Biscuits and cakes   \n",
              "458       en:FR                  d         Sugary snacks   Biscuits and cakes   \n",
              "459       en:FR                  e         Sugary snacks   Biscuits and cakes   \n",
              "508       en:FR                  e         Sugary snacks   Biscuits and cakes   \n",
              "9744      en:FR                  e         Sugary snacks   Biscuits and cakes   \n",
              "9890      en:FR                  d         Sugary snacks               Sweets   \n",
              "9891      en:FR                  e         Sugary snacks   Biscuits and cakes   \n",
              "11272     en:FR                  e         Sugary snacks   Biscuits and cakes   \n",
              "11273     en:FR                  e         Sugary snacks   Biscuits and cakes   \n",
              "11275     en:FR                  e         Sugary snacks   Biscuits and cakes   \n",
              "11276     en:FR                  e         Sugary snacks   Biscuits and cakes   \n",
              "11277     en:FR                  e         Sugary snacks   Biscuits and cakes   \n",
              "11278     en:FR                  d         Sugary snacks   Biscuits and cakes   \n",
              "11281     en:FR                  e         Sugary snacks   Biscuits and cakes   \n",
              "13112     en:FR                  e             Beverages  Sweetened beverages   \n",
              "13129     en:FR                  b             Beverages         Fruit juices   \n",
              "13133     en:FR                  e             Beverages  Sweetened beverages   \n",
              "13134     en:FR                  b             Beverages         Fruit juices   \n",
              "13135     en:FR                  c             Beverages         Fruit juices   \n",
              "13138     en:FR                  e             Beverages  Sweetened beverages   \n",
              "13419     en:FR                  e         Sugary snacks   Biscuits and cakes   \n",
              "15157     en:FR                  e             Beverages  Sweetened beverages   \n",
              "15163     en:FR                  d         Sugary snacks   Biscuits and cakes   \n",
              "19458     en:FR                  d         Sugary snacks               Sweets   \n",
              "19493     en:FR                  c             Beverages  Sweetened beverages   \n",
              "19570     en:FR                  c         Sugary snacks               Sweets   \n",
              "24953     en:FR                  e         Sugary snacks   Biscuits and cakes   \n",
              "25051     en:FR                  d         Sugary snacks   Biscuits and cakes   \n",
              "25067     en:FR                  a  Cereals and potatoes    Breakfast cereals   \n",
              "25086     en:FR                  d  Cereals and potatoes    Breakfast cereals   \n",
              "27153     en:FR                  e             Beverages  Sweetened beverages   \n",
              "27215     en:FR                  e         Sugary snacks   Chocolate products   \n",
              "28062     en:FR                  c             Beverages         Fruit juices   \n",
              "29067     en:FR                  e         Sugary snacks               Sweets   \n",
              "29090     en:FR                  e         Sugary snacks               Sweets   \n",
              "29120     en:FR                  e         Sugary snacks   Chocolate products   \n",
              "29122     en:FR                  e         Sugary snacks   Chocolate products   \n",
              "29129     en:FR                  e         Sugary snacks               Sweets   \n",
              "29130     en:FR                  e         Sugary snacks               Sweets   \n",
              "29140     en:FR                  e         Sugary snacks   Chocolate products   \n",
              "30000     en:FR                  d             Beverages         Fruit juices   \n",
              "34632     en:FR                  d         Sugary snacks               Sweets   \n",
              "35195     en:FR                  d  Cereals and potatoes    Breakfast cereals   \n",
              "35204     en:FR                  d  Cereals and potatoes    Breakfast cereals   \n",
              "35807     en:FR                  e         Sugary snacks   Biscuits and cakes   \n",
              "35826     en:FR                  e         Sugary snacks   Biscuits and cakes   \n",
              "\n",
              "       energy_100g  sugars_100g  nutrition-score-fr_100g  \n",
              "106         1883.0        57.50                     22.0  \n",
              "190         1753.0        87.70                     14.0  \n",
              "191         2406.0        50.30                     14.0  \n",
              "218         2257.0        51.50                     26.0  \n",
              "226          177.0        10.40                     13.0  \n",
              "240          177.0        10.40                     13.0  \n",
              "242         1900.0        26.00                     12.0  \n",
              "279         1768.0        28.00                     13.0  \n",
              "283         1670.0        34.00                     12.0  \n",
              "299         1868.0        39.00                     22.0  \n",
              "301         1896.0        37.00                     22.0  \n",
              "360         1360.0        57.50                     14.0  \n",
              "361          586.0        24.00                      6.0  \n",
              "428         1724.0        31.00                     13.0  \n",
              "454         2172.0        33.50                     26.0  \n",
              "458         1809.0        35.70                     18.0  \n",
              "459         1981.0        31.80                     20.0  \n",
              "508         1807.0        37.00                     19.0  \n",
              "9744        2018.0        48.00                     24.0  \n",
              "9890        1632.0        70.30                     14.0  \n",
              "9891        1928.0        44.40                     24.0  \n",
              "11272       2269.0        34.00                     21.0  \n",
              "11273       2131.0        34.80                     21.0  \n",
              "11275       2230.0        32.60                     21.0  \n",
              "11276       2238.0        30.40                     20.0  \n",
              "11277       1946.0        41.70                     21.0  \n",
              "11278       1753.0        41.90                     16.0  \n",
              "11281       1916.0        40.80                     22.0  \n",
              "13112        266.0        13.30                     18.0  \n",
              "13129        142.0         6.29                      0.0  \n",
              "13133        187.0        11.00                     15.0  \n",
              "13134        140.0         6.25                      0.0  \n",
              "13135        172.0         8.90                      2.0  \n",
              "13138        184.0        11.00                     15.0  \n",
              "13419       1960.0        50.00                     24.0  \n",
              "15157        192.0        11.30                     15.0  \n",
              "15163       2040.0        18.60                     17.0  \n",
              "19458       1690.0        63.00                     18.0  \n",
              "19493         42.0         0.20                      3.0  \n",
              "19570       1130.0        50.20                     10.0  \n",
              "24953       2056.0        36.00                     23.0  \n",
              "25051       1618.0        13.30                     16.0  \n",
              "25067       1490.0         0.00                      0.0  \n",
              "25086       1700.0        33.30                     18.0  \n",
              "27153        209.0        12.00                     15.0  \n",
              "27215       2333.0        24.00                     21.0  \n",
              "28062        179.0         9.20                      3.0  \n",
              "29067       2268.0        44.80                     29.0  \n",
              "29090       2090.0        52.50                     22.0  \n",
              "29120       2278.0        50.10                     29.0  \n",
              "29122       2299.0        50.20                     29.0  \n",
              "29129       2090.0        52.30                     26.0  \n",
              "29130       2289.0        51.70                     25.0  \n",
              "29140       2090.0        47.10                     24.0  \n",
              "30000        205.0        11.10                      6.0  \n",
              "34632       2679.0         9.40                     16.0  \n",
              "35195       1600.0        35.30                     12.0  \n",
              "35204       1590.0        41.40                     14.0  \n",
              "35807       2092.0        20.00                     23.0  \n",
              "35826       2168.0        25.70                     22.0  "
            ]
          },
          "execution_count": 390,
          "metadata": {},
          "output_type": "execute_result"
        }
      ],
      "source": [
        "df.head(60)"
      ]
    },
    {
      "cell_type": "code",
      "execution_count": 391,
      "metadata": {},
      "outputs": [
        {
          "name": "stdout",
          "output_type": "stream",
          "text": [
            "<class 'pandas.core.frame.DataFrame'>\n",
            "Index: 14048 entries, 106 to 320702\n",
            "Data columns (total 9 columns):\n",
            " #   Column                   Non-Null Count  Dtype  \n",
            "---  ------                   --------------  -----  \n",
            " 0   code                     14048 non-null  object \n",
            " 1   product_name             14048 non-null  object \n",
            " 2   countries                14048 non-null  object \n",
            " 3   nutrition_grade_fr       14048 non-null  object \n",
            " 4   pnns_groups_1            14048 non-null  object \n",
            " 5   pnns_groups_2            14048 non-null  object \n",
            " 6   energy_100g              14048 non-null  float64\n",
            " 7   sugars_100g              14048 non-null  float64\n",
            " 8   nutrition-score-fr_100g  14048 non-null  float64\n",
            "dtypes: float64(3), object(6)\n",
            "memory usage: 1.1+ MB\n"
          ]
        }
      ],
      "source": [
        "df.info()"
      ]
    },
    {
      "cell_type": "code",
      "execution_count": 392,
      "metadata": {},
      "outputs": [
        {
          "name": "stdout",
          "output_type": "stream",
          "text": [
            "                         energy_100g  sugars_100g  nutrition-score-fr_100g\n",
            "energy_100g                 1.000000     0.528978                 0.721464\n",
            "sugars_100g                 0.528978     1.000000                 0.543918\n",
            "nutrition-score-fr_100g     0.721464     0.543918                 1.000000\n"
          ]
        }
      ],
      "source": [
        "correlation_matrix = df.corr(numeric_only=True)\n",
        "print(correlation_matrix)"
      ]
    },
    {
      "cell_type": "code",
      "execution_count": 393,
      "metadata": {},
      "outputs": [
        {
          "data": {
            "image/png": "[encoded data removed]",
            "text/plain": [
              "<Figure size 1000x800 with 2 Axes>"
            ]
          },
          "metadata": {},
          "output_type": "display_data"
        }
      ],
      "source": [
        "import seaborn as sns\n",
        "import matplotlib.pyplot as plt\n",
        "\n",
        "plt.figure(figsize=(10, 8))\n",
        "sns.heatmap(correlation_matrix, annot=True, cmap='coolwarm', fmt=\".2f\")\n",
        "plt.title(\"Matrice de corrélation\")\n",
        "plt.show()"
      ]
    },
    {
      "cell_type": "code",
      "execution_count": 394,
      "metadata": {
        "colab": {
          "base_uri": "https://localhost:8080/"
        },
        "id": "iYyNLQ5E3joP",
        "outputId": "325c497e-caa3-4d86-e187-c37fc6c7fe30"
      },
      "outputs": [
        {
          "data": {
            "text/plain": [
              "(14048, 9)"
            ]
          },
          "execution_count": 394,
          "metadata": {},
          "output_type": "execute_result"
        }
      ],
      "source": [
        "df.shape"
      ]
    },
    {
      "cell_type": "markdown",
      "metadata": {},
      "source": [
        "3. Sauvegarde le DataFrame "
      ]
    },
    {
      "cell_type": "code",
      "execution_count": 395,
      "metadata": {},
      "outputs": [],
      "source": [
        "df.to_csv(\"./data/data_openfoodfact_products.csv\")"
      ]
    },
    {
      "cell_type": "markdown",
      "metadata": {},
      "source": []
    }
  ],
  "metadata": {
    "colab": {
      "provenance": []
    },
    "kernelspec": {
      "display_name": "Python 3",
      "name": "python3"
    },
    "language_info": {
      "codemirror_mode": {
        "name": "ipython",
        "version": 3
      },
      "file_extension": ".py",
      "mimetype": "text/x-python",
      "name": "python",
      "nbconvert_exporter": "python",
      "pygments_lexer": "ipython3",
      "version": "3.12.0"
    }
  },
  "nbformat": 4,
  "nbformat_minor": 0
}
